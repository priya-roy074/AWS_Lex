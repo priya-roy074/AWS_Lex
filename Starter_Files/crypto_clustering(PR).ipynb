{
  "nbformat": 4,
  "nbformat_minor": 0,
  "metadata": {
    "file_extension": ".py",
    "kernelspec": {
      "display_name": "Python 3",
      "language": "python",
      "name": "python3"
    },
    "language_info": {
      "codemirror_mode": {
        "name": "ipython",
        "version": 3
      },
      "file_extension": ".py",
      "mimetype": "text/x-python",
      "name": "python",
      "nbconvert_exporter": "python",
      "pygments_lexer": "ipython3",
      "version": "3.7.3"
    },
    "mimetype": "text/x-python",
    "name": "python",
    "npconvert_exporter": "python",
    "pygments_lexer": "ipython3",
    "version": 3,
    "colab": {
      "name": "crypto_clustering(PR).ipynb",
      "provenance": [],
      "collapsed_sections": [],
      "toc_visible": true
    }
  },
  "cells": [
    {
      "cell_type": "markdown",
      "metadata": {
        "id": "5t8W0v5n-46p"
      },
      "source": [
        "# Clustering Crypto"
      ]
    },
    {
      "cell_type": "code",
      "metadata": {
        "id": "q5XXjlVP-46y"
      },
      "source": [
        "# Initial imports\n",
        "import requests\n",
        "import pandas as pd\n",
        "import matplotlib.pyplot as plt\n",
        "\n",
        "import plotly.express as px\n",
        "from sklearn.preprocessing import StandardScaler, MinMaxScaler\n",
        "from sklearn.decomposition import PCA\n",
        "from sklearn.cluster import KMeans"
      ],
      "execution_count": 1,
      "outputs": []
    },
    {
      "cell_type": "markdown",
      "metadata": {
        "id": "VkQxrEH5-46z"
      },
      "source": [
        "### Fetching Cryptocurrency Data"
      ]
    },
    {
      "cell_type": "code",
      "metadata": {
        "id": "RYYFqc---460"
      },
      "source": [
        "# Use the following endpoint to fetch json data\n",
        "url = \"https://min-api.cryptocompare.com/data/all/coinlist\""
      ],
      "execution_count": 2,
      "outputs": []
    },
    {
      "cell_type": "code",
      "metadata": {
        "id": "uoP3YrC--460"
      },
      "source": [
        "# Create a DataFrame \n",
        "# HINT: You will need to use the 'Data' key from the json response, then transpose the DataFrame."
      ],
      "execution_count": 3,
      "outputs": []
    },
    {
      "cell_type": "code",
      "metadata": {
        "colab": {
          "base_uri": "https://localhost:8080/"
        },
        "id": "iuztbuGA-461",
        "outputId": "4ed4764e-95a8-4bb6-c501-3e9bcbe05786"
      },
      "source": [
        "# Alternatively, use the provided csv file:\n",
        "crypto_df = pd.read_csv(\"crypto_data.csv\", index_col=0)\n",
        "crypto_df.shape\n"
      ],
      "execution_count": 4,
      "outputs": [
        {
          "output_type": "execute_result",
          "data": {
            "text/plain": [
              "(1252, 6)"
            ]
          },
          "metadata": {
            "tags": []
          },
          "execution_count": 4
        }
      ]
    },
    {
      "cell_type": "markdown",
      "metadata": {
        "id": "_k4p_XdT-461"
      },
      "source": [
        "### Data Preprocessing"
      ]
    },
    {
      "cell_type": "code",
      "metadata": {
        "id": "54YdLKdM-461"
      },
      "source": [
        "# Keep only necessary columns:\n",
        "\n",
        "# 'CoinName','Algorithm','IsTrading','ProofType','TotalCoinsMined','TotalCoinSupply'\n"
      ],
      "execution_count": 5,
      "outputs": []
    },
    {
      "cell_type": "code",
      "metadata": {
        "colab": {
          "base_uri": "https://localhost:8080/",
          "height": 406
        },
        "id": "YLCuBjsa__YY",
        "outputId": "c295205a-d56e-4f54-fc3f-7763d2dc650f"
      },
      "source": [
        "crypto_df"
      ],
      "execution_count": 6,
      "outputs": [
        {
          "output_type": "execute_result",
          "data": {
            "text/html": [
              "<div>\n",
              "<style scoped>\n",
              "    .dataframe tbody tr th:only-of-type {\n",
              "        vertical-align: middle;\n",
              "    }\n",
              "\n",
              "    .dataframe tbody tr th {\n",
              "        vertical-align: top;\n",
              "    }\n",
              "\n",
              "    .dataframe thead th {\n",
              "        text-align: right;\n",
              "    }\n",
              "</style>\n",
              "<table border=\"1\" class=\"dataframe\">\n",
              "  <thead>\n",
              "    <tr style=\"text-align: right;\">\n",
              "      <th></th>\n",
              "      <th>CoinName</th>\n",
              "      <th>Algorithm</th>\n",
              "      <th>IsTrading</th>\n",
              "      <th>ProofType</th>\n",
              "      <th>TotalCoinsMined</th>\n",
              "      <th>TotalCoinSupply</th>\n",
              "    </tr>\n",
              "  </thead>\n",
              "  <tbody>\n",
              "    <tr>\n",
              "      <th>42</th>\n",
              "      <td>42 Coin</td>\n",
              "      <td>Scrypt</td>\n",
              "      <td>True</td>\n",
              "      <td>PoW/PoS</td>\n",
              "      <td>4.199995e+01</td>\n",
              "      <td>42</td>\n",
              "    </tr>\n",
              "    <tr>\n",
              "      <th>365</th>\n",
              "      <td>365Coin</td>\n",
              "      <td>X11</td>\n",
              "      <td>True</td>\n",
              "      <td>PoW/PoS</td>\n",
              "      <td>NaN</td>\n",
              "      <td>2300000000</td>\n",
              "    </tr>\n",
              "    <tr>\n",
              "      <th>404</th>\n",
              "      <td>404Coin</td>\n",
              "      <td>Scrypt</td>\n",
              "      <td>True</td>\n",
              "      <td>PoW/PoS</td>\n",
              "      <td>1.055185e+09</td>\n",
              "      <td>532000000</td>\n",
              "    </tr>\n",
              "    <tr>\n",
              "      <th>611</th>\n",
              "      <td>SixEleven</td>\n",
              "      <td>SHA-256</td>\n",
              "      <td>True</td>\n",
              "      <td>PoW</td>\n",
              "      <td>NaN</td>\n",
              "      <td>611000</td>\n",
              "    </tr>\n",
              "    <tr>\n",
              "      <th>808</th>\n",
              "      <td>808</td>\n",
              "      <td>SHA-256</td>\n",
              "      <td>True</td>\n",
              "      <td>PoW/PoS</td>\n",
              "      <td>0.000000e+00</td>\n",
              "      <td>0</td>\n",
              "    </tr>\n",
              "    <tr>\n",
              "      <th>...</th>\n",
              "      <td>...</td>\n",
              "      <td>...</td>\n",
              "      <td>...</td>\n",
              "      <td>...</td>\n",
              "      <td>...</td>\n",
              "      <td>...</td>\n",
              "    </tr>\n",
              "    <tr>\n",
              "      <th>XBC</th>\n",
              "      <td>BitcoinPlus</td>\n",
              "      <td>Scrypt</td>\n",
              "      <td>True</td>\n",
              "      <td>PoS</td>\n",
              "      <td>1.283270e+05</td>\n",
              "      <td>1000000</td>\n",
              "    </tr>\n",
              "    <tr>\n",
              "      <th>DVTC</th>\n",
              "      <td>DivotyCoin</td>\n",
              "      <td>Scrypt</td>\n",
              "      <td>False</td>\n",
              "      <td>PoW/PoS</td>\n",
              "      <td>2.149121e+07</td>\n",
              "      <td>100000000</td>\n",
              "    </tr>\n",
              "    <tr>\n",
              "      <th>GIOT</th>\n",
              "      <td>Giotto Coin</td>\n",
              "      <td>Scrypt</td>\n",
              "      <td>False</td>\n",
              "      <td>PoW/PoS</td>\n",
              "      <td>NaN</td>\n",
              "      <td>233100000</td>\n",
              "    </tr>\n",
              "    <tr>\n",
              "      <th>OPSC</th>\n",
              "      <td>OpenSourceCoin</td>\n",
              "      <td>SHA-256</td>\n",
              "      <td>False</td>\n",
              "      <td>PoW/PoS</td>\n",
              "      <td>NaN</td>\n",
              "      <td>21000000</td>\n",
              "    </tr>\n",
              "    <tr>\n",
              "      <th>PUNK</th>\n",
              "      <td>SteamPunk</td>\n",
              "      <td>PoS</td>\n",
              "      <td>False</td>\n",
              "      <td>PoS</td>\n",
              "      <td>NaN</td>\n",
              "      <td>40000000</td>\n",
              "    </tr>\n",
              "  </tbody>\n",
              "</table>\n",
              "<p>1252 rows × 6 columns</p>\n",
              "</div>"
            ],
            "text/plain": [
              "            CoinName Algorithm  ...  TotalCoinsMined TotalCoinSupply\n",
              "42           42 Coin    Scrypt  ...     4.199995e+01              42\n",
              "365          365Coin       X11  ...              NaN      2300000000\n",
              "404          404Coin    Scrypt  ...     1.055185e+09       532000000\n",
              "611        SixEleven   SHA-256  ...              NaN          611000\n",
              "808              808   SHA-256  ...     0.000000e+00               0\n",
              "...              ...       ...  ...              ...             ...\n",
              "XBC      BitcoinPlus    Scrypt  ...     1.283270e+05         1000000\n",
              "DVTC      DivotyCoin    Scrypt  ...     2.149121e+07       100000000\n",
              "GIOT     Giotto Coin    Scrypt  ...              NaN       233100000\n",
              "OPSC  OpenSourceCoin   SHA-256  ...              NaN        21000000\n",
              "PUNK       SteamPunk       PoS  ...              NaN        40000000\n",
              "\n",
              "[1252 rows x 6 columns]"
            ]
          },
          "metadata": {
            "tags": []
          },
          "execution_count": 6
        }
      ]
    },
    {
      "cell_type": "code",
      "metadata": {
        "colab": {
          "base_uri": "https://localhost:8080/",
          "height": 197
        },
        "id": "0da7TXpn-462",
        "outputId": "d9a9cccb-182b-4875-e1ff-96bdcf1da589"
      },
      "source": [
        "# Keep only cryptocurrencies that are trading\n",
        "crypto_df = crypto_df[crypto_df['IsTrading']]\n",
        "crypto_df.head(5)"
      ],
      "execution_count": 7,
      "outputs": [
        {
          "output_type": "execute_result",
          "data": {
            "text/html": [
              "<div>\n",
              "<style scoped>\n",
              "    .dataframe tbody tr th:only-of-type {\n",
              "        vertical-align: middle;\n",
              "    }\n",
              "\n",
              "    .dataframe tbody tr th {\n",
              "        vertical-align: top;\n",
              "    }\n",
              "\n",
              "    .dataframe thead th {\n",
              "        text-align: right;\n",
              "    }\n",
              "</style>\n",
              "<table border=\"1\" class=\"dataframe\">\n",
              "  <thead>\n",
              "    <tr style=\"text-align: right;\">\n",
              "      <th></th>\n",
              "      <th>CoinName</th>\n",
              "      <th>Algorithm</th>\n",
              "      <th>IsTrading</th>\n",
              "      <th>ProofType</th>\n",
              "      <th>TotalCoinsMined</th>\n",
              "      <th>TotalCoinSupply</th>\n",
              "    </tr>\n",
              "  </thead>\n",
              "  <tbody>\n",
              "    <tr>\n",
              "      <th>42</th>\n",
              "      <td>42 Coin</td>\n",
              "      <td>Scrypt</td>\n",
              "      <td>True</td>\n",
              "      <td>PoW/PoS</td>\n",
              "      <td>4.199995e+01</td>\n",
              "      <td>42</td>\n",
              "    </tr>\n",
              "    <tr>\n",
              "      <th>365</th>\n",
              "      <td>365Coin</td>\n",
              "      <td>X11</td>\n",
              "      <td>True</td>\n",
              "      <td>PoW/PoS</td>\n",
              "      <td>NaN</td>\n",
              "      <td>2300000000</td>\n",
              "    </tr>\n",
              "    <tr>\n",
              "      <th>404</th>\n",
              "      <td>404Coin</td>\n",
              "      <td>Scrypt</td>\n",
              "      <td>True</td>\n",
              "      <td>PoW/PoS</td>\n",
              "      <td>1.055185e+09</td>\n",
              "      <td>532000000</td>\n",
              "    </tr>\n",
              "    <tr>\n",
              "      <th>611</th>\n",
              "      <td>SixEleven</td>\n",
              "      <td>SHA-256</td>\n",
              "      <td>True</td>\n",
              "      <td>PoW</td>\n",
              "      <td>NaN</td>\n",
              "      <td>611000</td>\n",
              "    </tr>\n",
              "    <tr>\n",
              "      <th>808</th>\n",
              "      <td>808</td>\n",
              "      <td>SHA-256</td>\n",
              "      <td>True</td>\n",
              "      <td>PoW/PoS</td>\n",
              "      <td>0.000000e+00</td>\n",
              "      <td>0</td>\n",
              "    </tr>\n",
              "  </tbody>\n",
              "</table>\n",
              "</div>"
            ],
            "text/plain": [
              "      CoinName Algorithm  IsTrading ProofType  TotalCoinsMined TotalCoinSupply\n",
              "42     42 Coin    Scrypt       True   PoW/PoS     4.199995e+01              42\n",
              "365    365Coin       X11       True   PoW/PoS              NaN      2300000000\n",
              "404    404Coin    Scrypt       True   PoW/PoS     1.055185e+09       532000000\n",
              "611  SixEleven   SHA-256       True       PoW              NaN          611000\n",
              "808        808   SHA-256       True   PoW/PoS     0.000000e+00               0"
            ]
          },
          "metadata": {
            "tags": []
          },
          "execution_count": 7
        }
      ]
    },
    {
      "cell_type": "code",
      "metadata": {
        "id": "z9WaO_1D-463"
      },
      "source": [
        "# Keep only cryptocurrencies with a working algorithm\n",
        "##All seem to have an algorithm"
      ],
      "execution_count": 8,
      "outputs": []
    },
    {
      "cell_type": "code",
      "metadata": {
        "colab": {
          "base_uri": "https://localhost:8080/",
          "height": 322
        },
        "id": "6SdE7qB2-466",
        "outputId": "5edfc6f5-e731-4dd1-fb2f-d51db2eb735d"
      },
      "source": [
        "# Remove the \"IsTrading\" column\n",
        "crypto_df.drop(columns=['IsTrading'], inplace=True)\n",
        "crypto_df.head()"
      ],
      "execution_count": 9,
      "outputs": [
        {
          "output_type": "stream",
          "text": [
            "/usr/local/lib/python3.6/dist-packages/pandas/core/frame.py:4174: SettingWithCopyWarning:\n",
            "\n",
            "\n",
            "A value is trying to be set on a copy of a slice from a DataFrame\n",
            "\n",
            "See the caveats in the documentation: https://pandas.pydata.org/pandas-docs/stable/user_guide/indexing.html#returning-a-view-versus-a-copy\n",
            "\n"
          ],
          "name": "stderr"
        },
        {
          "output_type": "execute_result",
          "data": {
            "text/html": [
              "<div>\n",
              "<style scoped>\n",
              "    .dataframe tbody tr th:only-of-type {\n",
              "        vertical-align: middle;\n",
              "    }\n",
              "\n",
              "    .dataframe tbody tr th {\n",
              "        vertical-align: top;\n",
              "    }\n",
              "\n",
              "    .dataframe thead th {\n",
              "        text-align: right;\n",
              "    }\n",
              "</style>\n",
              "<table border=\"1\" class=\"dataframe\">\n",
              "  <thead>\n",
              "    <tr style=\"text-align: right;\">\n",
              "      <th></th>\n",
              "      <th>CoinName</th>\n",
              "      <th>Algorithm</th>\n",
              "      <th>ProofType</th>\n",
              "      <th>TotalCoinsMined</th>\n",
              "      <th>TotalCoinSupply</th>\n",
              "    </tr>\n",
              "  </thead>\n",
              "  <tbody>\n",
              "    <tr>\n",
              "      <th>42</th>\n",
              "      <td>42 Coin</td>\n",
              "      <td>Scrypt</td>\n",
              "      <td>PoW/PoS</td>\n",
              "      <td>4.199995e+01</td>\n",
              "      <td>42</td>\n",
              "    </tr>\n",
              "    <tr>\n",
              "      <th>365</th>\n",
              "      <td>365Coin</td>\n",
              "      <td>X11</td>\n",
              "      <td>PoW/PoS</td>\n",
              "      <td>NaN</td>\n",
              "      <td>2300000000</td>\n",
              "    </tr>\n",
              "    <tr>\n",
              "      <th>404</th>\n",
              "      <td>404Coin</td>\n",
              "      <td>Scrypt</td>\n",
              "      <td>PoW/PoS</td>\n",
              "      <td>1.055185e+09</td>\n",
              "      <td>532000000</td>\n",
              "    </tr>\n",
              "    <tr>\n",
              "      <th>611</th>\n",
              "      <td>SixEleven</td>\n",
              "      <td>SHA-256</td>\n",
              "      <td>PoW</td>\n",
              "      <td>NaN</td>\n",
              "      <td>611000</td>\n",
              "    </tr>\n",
              "    <tr>\n",
              "      <th>808</th>\n",
              "      <td>808</td>\n",
              "      <td>SHA-256</td>\n",
              "      <td>PoW/PoS</td>\n",
              "      <td>0.000000e+00</td>\n",
              "      <td>0</td>\n",
              "    </tr>\n",
              "  </tbody>\n",
              "</table>\n",
              "</div>"
            ],
            "text/plain": [
              "      CoinName Algorithm ProofType  TotalCoinsMined TotalCoinSupply\n",
              "42     42 Coin    Scrypt   PoW/PoS     4.199995e+01              42\n",
              "365    365Coin       X11   PoW/PoS              NaN      2300000000\n",
              "404    404Coin    Scrypt   PoW/PoS     1.055185e+09       532000000\n",
              "611  SixEleven   SHA-256       PoW              NaN          611000\n",
              "808        808   SHA-256   PoW/PoS     0.000000e+00               0"
            ]
          },
          "metadata": {
            "tags": []
          },
          "execution_count": 9
        }
      ]
    },
    {
      "cell_type": "code",
      "metadata": {
        "id": "ZU_l6cMV-466"
      },
      "source": [
        "# Remove rows with at least 1 null value\n",
        "crypto_df = crypto_df.dropna()"
      ],
      "execution_count": 10,
      "outputs": []
    },
    {
      "cell_type": "code",
      "metadata": {
        "id": "MdnQyAAH-469"
      },
      "source": [
        "# Remove rows with cryptocurrencies having no coins mined\n",
        "crypto_df = crypto_df[crypto_df['TotalCoinsMined']!=0]"
      ],
      "execution_count": 11,
      "outputs": []
    },
    {
      "cell_type": "code",
      "metadata": {
        "id": "Y3UtjIar-469"
      },
      "source": [
        "# Drop rows where there are 'N/A' text values\n",
        "crypto_df = crypto_df[(crypto_df['CoinName']!= \"N/A\") & (crypto_df['Algorithm']!=\"N/A\") & (crypto_df['ProofType']!=\"N/A\")]"
      ],
      "execution_count": 12,
      "outputs": []
    },
    {
      "cell_type": "code",
      "metadata": {
        "colab": {
          "base_uri": "https://localhost:8080/",
          "height": 406
        },
        "id": "z9ifRu7X-46-",
        "outputId": "668ca01b-53c0-47df-b77f-4cfe1bb77f8c"
      },
      "source": [
        "# Store the 'CoinName'column in its own DataFrame prior to dropping it from crypto_df\n",
        "coins_name_df = pd.DataFrame(crypto_df.CoinName)\n",
        "coins_name_df"
      ],
      "execution_count": 13,
      "outputs": [
        {
          "output_type": "execute_result",
          "data": {
            "text/html": [
              "<div>\n",
              "<style scoped>\n",
              "    .dataframe tbody tr th:only-of-type {\n",
              "        vertical-align: middle;\n",
              "    }\n",
              "\n",
              "    .dataframe tbody tr th {\n",
              "        vertical-align: top;\n",
              "    }\n",
              "\n",
              "    .dataframe thead th {\n",
              "        text-align: right;\n",
              "    }\n",
              "</style>\n",
              "<table border=\"1\" class=\"dataframe\">\n",
              "  <thead>\n",
              "    <tr style=\"text-align: right;\">\n",
              "      <th></th>\n",
              "      <th>CoinName</th>\n",
              "    </tr>\n",
              "  </thead>\n",
              "  <tbody>\n",
              "    <tr>\n",
              "      <th>42</th>\n",
              "      <td>42 Coin</td>\n",
              "    </tr>\n",
              "    <tr>\n",
              "      <th>404</th>\n",
              "      <td>404Coin</td>\n",
              "    </tr>\n",
              "    <tr>\n",
              "      <th>1337</th>\n",
              "      <td>EliteCoin</td>\n",
              "    </tr>\n",
              "    <tr>\n",
              "      <th>BTC</th>\n",
              "      <td>Bitcoin</td>\n",
              "    </tr>\n",
              "    <tr>\n",
              "      <th>ETH</th>\n",
              "      <td>Ethereum</td>\n",
              "    </tr>\n",
              "    <tr>\n",
              "      <th>...</th>\n",
              "      <td>...</td>\n",
              "    </tr>\n",
              "    <tr>\n",
              "      <th>ZEPH</th>\n",
              "      <td>ZEPHYR</td>\n",
              "    </tr>\n",
              "    <tr>\n",
              "      <th>GAP</th>\n",
              "      <td>Gapcoin</td>\n",
              "    </tr>\n",
              "    <tr>\n",
              "      <th>BDX</th>\n",
              "      <td>Beldex</td>\n",
              "    </tr>\n",
              "    <tr>\n",
              "      <th>ZEN</th>\n",
              "      <td>Horizen</td>\n",
              "    </tr>\n",
              "    <tr>\n",
              "      <th>XBC</th>\n",
              "      <td>BitcoinPlus</td>\n",
              "    </tr>\n",
              "  </tbody>\n",
              "</table>\n",
              "<p>533 rows × 1 columns</p>\n",
              "</div>"
            ],
            "text/plain": [
              "         CoinName\n",
              "42        42 Coin\n",
              "404       404Coin\n",
              "1337    EliteCoin\n",
              "BTC       Bitcoin\n",
              "ETH      Ethereum\n",
              "...           ...\n",
              "ZEPH       ZEPHYR\n",
              "GAP       Gapcoin\n",
              "BDX        Beldex\n",
              "ZEN       Horizen\n",
              "XBC   BitcoinPlus\n",
              "\n",
              "[533 rows x 1 columns]"
            ]
          },
          "metadata": {
            "tags": []
          },
          "execution_count": 13
        }
      ]
    },
    {
      "cell_type": "code",
      "metadata": {
        "id": "2kuAZB_V-46_"
      },
      "source": [
        "# Drop the 'CoinName' column since it's not going to be used on the clustering algorithm\n",
        "crypto_df.drop(columns=['CoinName'], inplace=True)"
      ],
      "execution_count": 14,
      "outputs": []
    },
    {
      "cell_type": "code",
      "metadata": {
        "id": "bgFsjMjD-47G"
      },
      "source": [
        "# Create dummy variables for text features\n",
        "X = pd.get_dummies(crypto_df,columns=['Algorithm', 'ProofType'])"
      ],
      "execution_count": 15,
      "outputs": []
    },
    {
      "cell_type": "code",
      "metadata": {
        "id": "5ZEDTz6N-47J"
      },
      "source": [
        "# Standardize data\n",
        "crypto_scaled = StandardScaler().fit_transform(X)"
      ],
      "execution_count": 16,
      "outputs": []
    },
    {
      "cell_type": "markdown",
      "metadata": {
        "id": "7py5A9-9-47K"
      },
      "source": [
        "### Reducing Dimensions Using PCA"
      ]
    },
    {
      "cell_type": "code",
      "metadata": {
        "id": "N9Zs3oKC-47O"
      },
      "source": [
        "# Use PCA to reduce dimensions to 3 principal components\n",
        "pca = PCA(n_components=3)\n",
        "crypto_pca = pca.fit_transform(crypto_scaled)"
      ],
      "execution_count": 17,
      "outputs": []
    },
    {
      "cell_type": "code",
      "metadata": {
        "colab": {
          "base_uri": "https://localhost:8080/",
          "height": 197
        },
        "id": "vGOZSgK2-47Q",
        "outputId": "161d0567-87dc-48fc-c045-a209e4262ccc"
      },
      "source": [
        "# Create a DataFrame with the principal components data\n",
        "pcs_df = pd.DataFrame(\n",
        "    data=crypto_pca, columns=[\"PC 1\", \"PC 2\", \"PC 3\"]\n",
        ")\n",
        "pcs_df.head()"
      ],
      "execution_count": 21,
      "outputs": [
        {
          "output_type": "execute_result",
          "data": {
            "text/html": [
              "<div>\n",
              "<style scoped>\n",
              "    .dataframe tbody tr th:only-of-type {\n",
              "        vertical-align: middle;\n",
              "    }\n",
              "\n",
              "    .dataframe tbody tr th {\n",
              "        vertical-align: top;\n",
              "    }\n",
              "\n",
              "    .dataframe thead th {\n",
              "        text-align: right;\n",
              "    }\n",
              "</style>\n",
              "<table border=\"1\" class=\"dataframe\">\n",
              "  <thead>\n",
              "    <tr style=\"text-align: right;\">\n",
              "      <th></th>\n",
              "      <th>PC 1</th>\n",
              "      <th>PC 2</th>\n",
              "      <th>PC 3</th>\n",
              "    </tr>\n",
              "  </thead>\n",
              "  <tbody>\n",
              "    <tr>\n",
              "      <th>0</th>\n",
              "      <td>-0.326145</td>\n",
              "      <td>1.048280</td>\n",
              "      <td>-0.560504</td>\n",
              "    </tr>\n",
              "    <tr>\n",
              "      <th>1</th>\n",
              "      <td>-0.309390</td>\n",
              "      <td>1.047697</td>\n",
              "      <td>-0.561071</td>\n",
              "    </tr>\n",
              "    <tr>\n",
              "      <th>2</th>\n",
              "      <td>2.324872</td>\n",
              "      <td>1.363950</td>\n",
              "      <td>-0.687529</td>\n",
              "    </tr>\n",
              "    <tr>\n",
              "      <th>3</th>\n",
              "      <td>-0.153082</td>\n",
              "      <td>-1.336140</td>\n",
              "      <td>0.167125</td>\n",
              "    </tr>\n",
              "    <tr>\n",
              "      <th>4</th>\n",
              "      <td>-0.161258</td>\n",
              "      <td>-1.961954</td>\n",
              "      <td>0.340172</td>\n",
              "    </tr>\n",
              "  </tbody>\n",
              "</table>\n",
              "</div>"
            ],
            "text/plain": [
              "       PC 1      PC 2      PC 3\n",
              "0 -0.326145  1.048280 -0.560504\n",
              "1 -0.309390  1.047697 -0.561071\n",
              "2  2.324872  1.363950 -0.687529\n",
              "3 -0.153082 -1.336140  0.167125\n",
              "4 -0.161258 -1.961954  0.340172"
            ]
          },
          "metadata": {
            "tags": []
          },
          "execution_count": 21
        }
      ]
    },
    {
      "cell_type": "markdown",
      "metadata": {
        "id": "s2l-KOAp-47R"
      },
      "source": [
        "### Clustering Crytocurrencies Using K-Means\n",
        "\n",
        "#### Find the Best Value for `k` Using the Elbow Curve"
      ]
    },
    {
      "cell_type": "code",
      "metadata": {
        "colab": {
          "base_uri": "https://localhost:8080/",
          "height": 312
        },
        "id": "I3uPuMYN-47R",
        "outputId": "2bf7f8be-74ad-46da-f21c-dbf9feeb6652"
      },
      "source": [
        "inertia = []\n",
        "k = list(range(1, 11))\n",
        "\n",
        "# Calculate the inertia for the range of k values\n",
        "for i in k:\n",
        "    km = KMeans(n_clusters=i, random_state=0)\n",
        "    km.fit(pcs_df)\n",
        "    inertia.append(km.inertia_)\n",
        "\n",
        "# Create the Elbow Curve using hvPlot\n",
        "elbow_data = {\"k\": k, \"inertia\": inertia}\n",
        "df_elbow = pd.DataFrame(elbow_data)\n",
        "df_elbow.plot.line(x=\"k\", y=\"inertia\", xticks=k, title=\"Elbow Curve\")"
      ],
      "execution_count": 22,
      "outputs": [
        {
          "output_type": "execute_result",
          "data": {
            "text/plain": [
              "<matplotlib.axes._subplots.AxesSubplot at 0x7f3ef2cee160>"
            ]
          },
          "metadata": {
            "tags": []
          },
          "execution_count": 22
        },
        {
          "output_type": "display_data",
          "data": {
            "image/png": "[encoded data removed]",
            "text/plain": [
              "<Figure size 432x288 with 1 Axes>"
            ]
          },
          "metadata": {
            "tags": [],
            "needs_background": "light"
          }
        }
      ]
    },
    {
      "cell_type": "markdown",
      "metadata": {
        "id": "TP_rPSYZ-47T"
      },
      "source": [
        "Running K-Means with `k=<your best value for k here>`"
      ]
    },
    {
      "cell_type": "code",
      "metadata": {
        "id": "KI-P2v1v-47U"
      },
      "source": [
        "# Initialize the K-Means model\n",
        "km = KMeans(n_clusters=4, random_state=0)\n",
        "# Fit the model\n",
        "km.fit(pcs_df)\n",
        "# Predict clusters\n",
        "predictions = km.predict(pcs_df)\n",
        "# Creating a new DataFrame including predicted clusters and cryptocurrencies features\n",
        "pcs_df['class'] = km.labels_\n",
        "pcs_df.index = crypto_df.index\n"
      ],
      "execution_count": 26,
      "outputs": []
    },
    {
      "cell_type": "code",
      "metadata": {
        "colab": {
          "base_uri": "https://localhost:8080/",
          "height": 197
        },
        "id": "bwQGX-5yCGC-",
        "outputId": "7c365d4b-e6e1-4f2f-eaba-feb3fddd09d9"
      },
      "source": [
        "crypto_df.head()\r\n",
        "clustered_df = pd.concat([crypto_df, pcs_df, coins_name_df], axis=1, )\r\n",
        "clustered_df.head()"
      ],
      "execution_count": 27,
      "outputs": [
        {
          "output_type": "execute_result",
          "data": {
            "text/html": [
              "<div>\n",
              "<style scoped>\n",
              "    .dataframe tbody tr th:only-of-type {\n",
              "        vertical-align: middle;\n",
              "    }\n",
              "\n",
              "    .dataframe tbody tr th {\n",
              "        vertical-align: top;\n",
              "    }\n",
              "\n",
              "    .dataframe thead th {\n",
              "        text-align: right;\n",
              "    }\n",
              "</style>\n",
              "<table border=\"1\" class=\"dataframe\">\n",
              "  <thead>\n",
              "    <tr style=\"text-align: right;\">\n",
              "      <th></th>\n",
              "      <th>Algorithm</th>\n",
              "      <th>ProofType</th>\n",
              "      <th>TotalCoinsMined</th>\n",
              "      <th>TotalCoinSupply</th>\n",
              "      <th>PC 1</th>\n",
              "      <th>PC 2</th>\n",
              "      <th>PC 3</th>\n",
              "      <th>class</th>\n",
              "      <th>CoinName</th>\n",
              "    </tr>\n",
              "  </thead>\n",
              "  <tbody>\n",
              "    <tr>\n",
              "      <th>42</th>\n",
              "      <td>Scrypt</td>\n",
              "      <td>PoW/PoS</td>\n",
              "      <td>4.199995e+01</td>\n",
              "      <td>42</td>\n",
              "      <td>-0.326145</td>\n",
              "      <td>1.048280</td>\n",
              "      <td>-0.560504</td>\n",
              "      <td>0</td>\n",
              "      <td>42 Coin</td>\n",
              "    </tr>\n",
              "    <tr>\n",
              "      <th>404</th>\n",
              "      <td>Scrypt</td>\n",
              "      <td>PoW/PoS</td>\n",
              "      <td>1.055185e+09</td>\n",
              "      <td>532000000</td>\n",
              "      <td>-0.309390</td>\n",
              "      <td>1.047697</td>\n",
              "      <td>-0.561071</td>\n",
              "      <td>0</td>\n",
              "      <td>404Coin</td>\n",
              "    </tr>\n",
              "    <tr>\n",
              "      <th>1337</th>\n",
              "      <td>X13</td>\n",
              "      <td>PoW/PoS</td>\n",
              "      <td>2.927942e+10</td>\n",
              "      <td>314159265359</td>\n",
              "      <td>2.324872</td>\n",
              "      <td>1.363950</td>\n",
              "      <td>-0.687529</td>\n",
              "      <td>0</td>\n",
              "      <td>EliteCoin</td>\n",
              "    </tr>\n",
              "    <tr>\n",
              "      <th>BTC</th>\n",
              "      <td>SHA-256</td>\n",
              "      <td>PoW</td>\n",
              "      <td>1.792718e+07</td>\n",
              "      <td>21000000</td>\n",
              "      <td>-0.153082</td>\n",
              "      <td>-1.336140</td>\n",
              "      <td>0.167125</td>\n",
              "      <td>1</td>\n",
              "      <td>Bitcoin</td>\n",
              "    </tr>\n",
              "    <tr>\n",
              "      <th>ETH</th>\n",
              "      <td>Ethash</td>\n",
              "      <td>PoW</td>\n",
              "      <td>1.076842e+08</td>\n",
              "      <td>0</td>\n",
              "      <td>-0.161258</td>\n",
              "      <td>-1.961954</td>\n",
              "      <td>0.340172</td>\n",
              "      <td>1</td>\n",
              "      <td>Ethereum</td>\n",
              "    </tr>\n",
              "  </tbody>\n",
              "</table>\n",
              "</div>"
            ],
            "text/plain": [
              "     Algorithm ProofType  TotalCoinsMined  ...      PC 3  class   CoinName\n",
              "42      Scrypt   PoW/PoS     4.199995e+01  ... -0.560504      0    42 Coin\n",
              "404     Scrypt   PoW/PoS     1.055185e+09  ... -0.561071      0    404Coin\n",
              "1337       X13   PoW/PoS     2.927942e+10  ... -0.687529      0  EliteCoin\n",
              "BTC    SHA-256       PoW     1.792718e+07  ...  0.167125      1    Bitcoin\n",
              "ETH     Ethash       PoW     1.076842e+08  ...  0.340172      1   Ethereum\n",
              "\n",
              "[5 rows x 9 columns]"
            ]
          },
          "metadata": {
            "tags": []
          },
          "execution_count": 27
        }
      ]
    },
    {
      "cell_type": "markdown",
      "metadata": {
        "id": "jvjSsHrX-47a"
      },
      "source": [
        "### Visualizing Results\n",
        "\n",
        "#### 3D-Scatter with Clusters"
      ]
    },
    {
      "cell_type": "code",
      "metadata": {
        "colab": {
          "base_uri": "https://localhost:8080/",
          "height": 542
        },
        "id": "o9NanEoO-47b",
        "outputId": "53936661-73c6-43f1-f0b3-4822a826bddc"
      },
      "source": [
        "# Create a 3D-Scatter with the PCA data and the clusters\n",
        "fig = px.scatter_3d(clustered_df, x=\"PC 1\", y=\"PC 2\", z=\"PC 3\", color=\"class\", hover_name=\"CoinName\", hover_data=[\"Algorithm\"])\n",
        "fig.show()"
      ],
      "execution_count": 28,
      "outputs": [
        {
          "output_type": "display_data",
          "data": {
            "text/html": [
              "<html>\n",
              "<head><meta charset=\"utf-8\" /></head>\n",
              "<body>\n",
              "    <div>\n",
              "            <script src=\"https://cdnjs.cloudflare.com/ajax/libs/mathjax/2.7.5/MathJax.js?config=TeX-AMS-MML_SVG\"></script><script type=\"text/javascript\">if (window.MathJax) {MathJax.Hub.Config({SVG: {font: \"STIX-Web\"}});}</script>\n",
              "                <script type=\"text/javascript\">window.PlotlyConfig = {MathJaxConfig: 'local'};</script>\n",
              "        <script src=\"https://cdn.plot.ly/plotly-latest.min.js\"></script>    \n",
              "            <div id=\"39b7c46d-9ff6-45f1-a813-401a97175ab3\" class=\"plotly-graph-div\" style=\"height:525px; width:100%;\"></div>\n",
              "            <script type=\"text/javascript\">\n",
              "                \n",
              "                    window.PLOTLYENV=window.PLOTLYENV || {};\n",
              "                    \n",
              "                if (document.getElementById(\"39b7c46d-9ff6-45f1-a813-401a97175ab3\")) {\n",
              "                    Plotly.newPlot(\n",
              "                        '39b7c46d-9ff6-45f1-a813-401a97175ab3',\n",
              "                        [{\"customdata\": [[\"Scrypt\"], [\"Scrypt\"], [\"X13\"], [\"SHA-256\"], [\"Ethash\"], [\"Scrypt\"], [\"X11\"], [\"CryptoNight-V7\"], [\"Ethash\"], [\"Equihash\"], [\"SHA-512\"], [\"Multiple\"], [\"SHA-256\"], [\"SHA-256\"], [\"Scrypt\"], [\"X15\"], [\"X11\"], [\"Scrypt\"], [\"Scrypt\"], [\"Scrypt\"], [\"Multiple\"], [\"Scrypt\"], [\"SHA-256\"], [\"Scrypt\"], [\"Scrypt\"], [\"Scrypt\"], [\"Quark\"], [\"Groestl\"], [\"Scrypt\"], [\"Scrypt\"], [\"Scrypt\"], [\"Scrypt\"], [\"Scrypt\"], [\"X11\"], [\"Scrypt\"], [\"Groestl\"], [\"Multiple\"], [\"SHA-256\"], [\"Scrypt\"], [\"Scrypt\"], [\"Scrypt\"], [\"Scrypt\"], [\"PoS\"], [\"Scrypt\"], [\"Scrypt\"], [\"NeoScrypt\"], [\"Scrypt\"], [\"Scrypt\"], [\"Scrypt\"], [\"Scrypt\"], [\"X11\"], [\"Scrypt\"], [\"X11\"], [\"SHA-256\"], [\"Scrypt\"], [\"Scrypt\"], [\"Scrypt\"], [\"SHA3\"], [\"Scrypt\"], [\"HybridScryptHash256\"], [\"Scrypt\"], [\"Scrypt\"], [\"SHA-256\"], [\"Scrypt\"], [\"X13\"], [\"Scrypt\"], [\"SHA-256\"], [\"Scrypt\"], [\"X13\"], [\"NeoScrypt\"], [\"Scrypt\"], [\"Scrypt\"], [\"Scrypt\"], [\"Scrypt\"], [\"Scrypt\"], [\"Scrypt\"], [\"X11\"], [\"X11\"], [\"SHA-256\"], [\"Multiple\"], [\"SHA-256\"], [\"PHI1612\"], [\"X11\"], [\"SHA-256\"], [\"SHA-256\"], [\"SHA-256\"], [\"X11\"], [\"Scrypt\"], [\"Scrypt\"], [\"Scrypt\"], [\"Scrypt\"], [\"Lyra2REv2\"], [\"Scrypt\"], [\"X11\"], [\"Multiple\"], [\"SHA-256\"], [\"X13\"], [\"Scrypt\"], [\"CryptoNight\"], [\"CryptoNight\"], [\"Shabal256\"], [\"Counterparty\"], [\"Scrypt\"], [\"SHA-256\"], [\"Groestl\"], [\"Scrypt\"], [\"Scrypt\"], [\"Scrypt\"], [\"X13\"], [\"Scrypt\"], [\"Scrypt\"], [\"Scrypt\"], [\"Scrypt\"], [\"X13\"], [\"Scrypt\"], [\"Stanford Folding\"], [\"X11\"], [\"Multiple\"], [\"QuBit\"], [\"Scrypt\"], [\"Scrypt\"], [\"Scrypt\"], [\"M7 POW\"], [\"Scrypt\"], [\"SHA-256\"], [\"Scrypt\"], [\"X11\"], [\"SHA3\"], [\"X11\"], [\"Lyra2RE\"], [\"SHA-256\"], [\"QUAIT\"], [\"X11\"], [\"X11\"], [\"Scrypt\"], [\"Scrypt\"], [\"Scrypt\"], [\"Ethash\"], [\"X13\"], [\"Blake2b\"], [\"SHA-256\"], [\"X15\"], [\"X11\"], [\"SHA-256\"], [\"BLAKE256\"], [\"Scrypt\"], [\"1GB AES Pattern Search\"], [\"SHA-256\"], [\"X11\"], [\"Scrypt\"], [\"SHA-256\"], [\"SHA-256\"], [\"NIST5\"], [\"Scrypt\"], [\"Scrypt\"], [\"X11\"], [\"Dagger\"], [\"Scrypt\"], [\"X11GOST\"], [\"X11\"], [\"Scrypt\"], [\"SHA-256\"], [\"Scrypt\"], [\"PoS\"], [\"Scrypt\"], [\"X11\"], [\"X11\"], [\"SHA-256\"], [\"SHA-256\"], [\"NIST5\"], [\"X11\"], [\"Scrypt\"], [\"POS 3.0\"], [\"Scrypt\"], [\"Scrypt\"], [\"Scrypt\"], [\"X13\"], [\"X11\"], [\"X11\"], [\"Equihash\"], [\"X11\"], [\"Scrypt\"], [\"CryptoNight\"], [\"SHA-256\"], [\"SHA-256\"], [\"X11\"], [\"Scrypt\"], [\"Multiple\"], [\"Scrypt\"], [\"Scrypt\"], [\"Scrypt\"], [\"SHA-256\"], [\"Scrypt\"], [\"Scrypt\"], [\"SHA-256D\"], [\"PoS\"], [\"Scrypt\"], [\"X11\"], [\"Lyra2Z\"], [\"PoS\"], [\"X13\"], [\"X14\"], [\"PoS\"], [\"SHA-256D\"], [\"Ethash\"], [\"Equihash\"], [\"DPoS\"], [\"X11\"], [\"Scrypt\"], [\"X11\"], [\"X13\"], [\"X11\"], [\"PoS\"], [\"Scrypt\"], [\"Scrypt\"], [\"X11\"], [\"PoS\"], [\"X11\"], [\"SHA-256\"], [\"Scrypt\"], [\"X11\"], [\"Scrypt\"], [\"Scrypt\"], [\"X11\"], [\"CryptoNight\"], [\"Scrypt\"], [\"Scrypt\"], [\"Scrypt\"], [\"Scrypt\"], [\"Quark\"], [\"QuBit\"], [\"Scrypt\"], [\"CryptoNight\"], [\"Lyra2RE\"], [\"Scrypt\"], [\"SHA-256\"], [\"X11\"], [\"Scrypt\"], [\"X11\"], [\"Scrypt\"], [\"CryptoNight-V7\"], [\"Scrypt\"], [\"Scrypt\"], [\"Scrypt\"], [\"X13\"], [\"X11\"], [\"Equihash\"], [\"Scrypt\"], [\"Scrypt\"], [\"Lyra2RE\"], [\"Scrypt\"], [\"Dagger-Hashimoto\"], [\"X11\"], [\"Blake2S\"], [\"X11\"], [\"Scrypt\"], [\"PoS\"], [\"X11\"], [\"NIST5\"], [\"PoS\"], [\"X11\"], [\"Scrypt\"], [\"Scrypt\"], [\"Scrypt\"], [\"SHA-256\"], [\"X11\"], [\"Scrypt\"], [\"Scrypt\"], [\"SHA-256\"], [\"PoS\"], [\"Scrypt\"], [\"X15\"], [\"SHA-256\"], [\"Scrypt\"], [\"POS 3.0\"], [\"CryptoNight-V7\"], [\"536\"], [\"Argon2d\"], [\"Blake2b\"], [\"Cloverhash\"], [\"CryptoNight\"], [\"NIST5\"], [\"X11\"], [\"NIST5\"], [\"Skein\"], [\"Scrypt\"], [\"X13\"], [\"Scrypt\"], [\"X11\"], [\"X11\"], [\"Scrypt\"], [\"CryptoNight\"], [\"X13\"], [\"Time Travel\"], [\"Scrypt\"], [\"Keccak\"], [\"SkunkHash v2 Raptor\"], [\"X11\"], [\"Skein\"], [\"SHA-256\"], [\"X11\"], [\"Scrypt\"], [\"VeChainThor Authority\"], [\"Scrypt\"], [\"PoS\"], [\"Scrypt\"], [\"Scrypt\"], [\"Scrypt\"], [\"Scrypt\"], [\"Scrypt\"], [\"Scrypt\"], [\"Scrypt\"], [\"CryptoNight\"], [\"SHA-512\"], [\"Ouroboros\"], [\"X11\"], [\"Equihash\"], [\"NeoScrypt\"], [\"X11\"], [\"Scrypt\"], [\"NeoScrypt\"], [\"Lyra2REv2\"], [\"Equihash\"], [\"Scrypt\"], [\"SHA-256\"], [\"NIST5\"], [\"PHI1612\"], [\"Dagger\"], [\"Scrypt\"], [\"Quark\"], [\"Scrypt\"], [\"POS 2.0\"], [\"Scrypt\"], [\"SHA-256\"], [\"X11\"], [\"NeoScrypt\"], [\"Ethash\"], [\"NeoScrypt\"], [\"X11\"], [\"DPoS\"], [\"NIST5\"], [\"X13\"], [\"Multiple\"], [\"Scrypt\"], [\"CryptoNight\"], [\"CryptoNight\"], [\"Ethash\"], [\"NIST5\"], [\"Quark\"], [\"X11\"], [\"CryptoNight-V7\"], [\"Scrypt\"], [\"Scrypt\"], [\"Scrypt\"], [\"X11\"], [\"BLAKE256\"], [\"X11\"], [\"NeoScrypt\"], [\"Quark\"], [\"NeoScrypt\"], [\"Scrypt\"], [\"Scrypt\"], [\"Scrypt\"], [\"X11\"], [\"X11\"], [\"SHA-256\"], [\"C11\"], [\"POS 3.0\"], [\"Ethash\"], [\"Scrypt\"], [\"CryptoNight\"], [\"SkunkHash\"], [\"Scrypt\"], [\"CryptoNight\"], [\"Scrypt\"], [\"Dagger\"], [\"Lyra2REv2\"], [\"X13\"], [\"Proof-of-BibleHash\"], [\"SHA-256 + Hive\"], [\"Scrypt\"], [\"Scrypt\"], [\"X11\"], [\"C11\"], [\"Proof-of-Authority\"], [\"X11\"], [\"XEVAN\"], [\"Scrypt\"], [\"VBFT\"], [\"Ethash\"], [\"CryptoNight\"], [\"Scrypt\"], [\"IMesh\"], [\"NIST5\"], [\"Scrypt\"], [\"Scrypt\"], [\"Equihash\"], [\"Scrypt\"], [\"Lyra2Z\"], [\"Green Protocol\"], [\"PoS\"], [\"Scrypt\"], [\"Semux BFT consensus\"], [\"X11\"], [\"Quark\"], [\"PoS\"], [\"CryptoNight\"], [\"X16R\"], [\"Scrypt\"], [\"NIST5\"], [\"Lyra2RE\"], [\"XEVAN\"], [\"Tribus\"], [\"Scrypt\"], [\"Lyra2Z\"], [\"CryptoNight\"], [\"CryptoNight Heavy\"], [\"CryptoNight\"], [\"Scrypt\"], [\"Scrypt\"], [\"Jump Consistent Hash\"], [\"SHA-256D\"], [\"CryptoNight\"], [\"Scrypt\"], [\"X15\"], [\"Scrypt\"], [\"Quark\"], [\"SHA-256\"], [\"DPoS\"], [\"X16R\"], [\"HMQ1725\"], [\"X11\"], [\"X16R\"], [\"Quark\"], [\"Quark\"], [\"Scrypt\"], [\"Lyra2REv2\"], [\"Quark\"], [\"Scrypt\"], [\"Scrypt\"], [\"CryptoNight-V7\"], [\"Cryptonight-GPU\"], [\"XEVAN\"], [\"CryptoNight Heavy\"], [\"X11\"], [\"X11\"], [\"Scrypt\"], [\"PoS\"], [\"SHA-256\"], [\"Keccak\"], [\"X11\"], [\"X11\"], [\"Scrypt\"], [\"SHA-512\"], [\"X16R\"], [\"ECC 256K1\"], [\"Equihash\"], [\"XEVAN\"], [\"Lyra2Z\"], [\"SHA-256\"], [\"XEVAN\"], [\"X11\"], [\"CryptoNight\"], [\"Quark\"], [\"Blake\"], [\"Blake\"], [\"Equihash\"], [\"Exosis\"], [\"Scrypt\"], [\"Scrypt\"], [\"Equihash\"], [\"Quark\"], [\"Equihash\"], [\"Quark\"], [\"Scrypt\"], [\"QuBit\"], [\"X11\"], [\"Scrypt\"], [\"XEVAN\"], [\"SHA-256D\"], [\"X11\"], [\"SHA-256\"], [\"X13\"], [\"SHA-256\"], [\"X11\"], [\"DPoS\"], [\"Scrypt\"], [\"Scrypt\"], [\"X11\"], [\"NeoScrypt\"], [\"Scrypt\"], [\"Blake\"], [\"Scrypt\"], [\"SHA-256\"], [\"Scrypt\"], [\"X11\"], [\"Scrypt\"], [\"Scrypt\"], [\"SHA-256\"], [\"X11\"], [\"SHA-256\"], [\"Scrypt\"], [\"Scrypt\"], [\"Scrypt\"], [\"Groestl\"], [\"X11\"], [\"Scrypt\"], [\"PoS\"], [\"Scrypt\"], [\"Scrypt\"], [\"X11\"], [\"SHA-256\"], [\"DPoS\"], [\"Scrypt\"], [\"Scrypt\"], [\"NeoScrypt\"], [\"SHA3-256\"], [\"Multiple\"], [\"X13\"], [\"Equihash+Scrypt\"], [\"DPoS\"], [\"Ethash\"], [\"DPoS\"], [\"SHA-256\"], [\"Leased POS\"], [\"PoS\"], [\"TRC10\"], [\"PoS\"], [\"SHA-256\"], [\"Scrypt\"], [\"CryptoNight\"], [\"Equihash\"], [\"Scrypt\"]], \"hoverlabel\": {\"namelength\": 0}, \"hovertemplate\": \"<b>%{hovertext}</b><br><br>PC 1=%{x}<br>PC 2=%{y}<br>PC 3=%{z}<br>Algorithm=%{customdata[0]}<br>class=%{marker.color}\", \"hovertext\": [\"42 Coin\", \"404Coin\", \"EliteCoin\", \"Bitcoin\", \"Ethereum\", \"Litecoin\", \"Dash\", \"Monero\", \"Ethereum Classic\", \"ZCash\", \"Bitshares\", \"DigiByte\", \"BitcoinDark\", \"PayCoin\", \"ProsperCoin\", \"KoboCoin\", \"Spreadcoin\", \"Argentum\", \"Aurora Coin\", \"BlueCoin\", \"MyriadCoin\", \"MoonCoin\", \"ZetaCoin\", \"SexCoin\", \"Quatloo\", \"EnergyCoin\", \"QuarkCoin\", \"Riecoin\", \"Digitalcoin \", \"BitBar\", \"Catcoin\", \"CryptoBullion\", \"CannaCoin\", \"CryptCoin\", \"CasinoCoin\", \"Diamond\", \"Verge\", \"DevCoin\", \"EarthCoin\", \"E-Gulden\", \"Einsteinium\", \"Emerald\", \"Exclusive Coin\", \"FlutterCoin\", \"Franko\", \"FeatherCoin\", \"GrandCoin\", \"GlobalCoin\", \"GoldCoin\", \"HoboNickels\", \"HyperStake\", \"Infinite Coin\", \"IOCoin\", \"IXcoin\", \"KrugerCoin\", \"LuckyCoin\", \"Litebar \", \"MaxCoin\", \"MegaCoin\", \"MediterraneanCoin\", \"MintCoin\", \"MinCoin\", \"MazaCoin\", \"Nautilus Coin\", \"NavCoin\", \"NobleCoin\", \"Namecoin\", \"NyanCoin\", \"OpalCoin\", \"Orbitcoin\", \"PotCoin\", \"PhoenixCoin\", \"Reddcoin\", \"RonPaulCoin\", \"StableCoin\", \"SmartCoin\", \"SuperCoin\", \"SyncCoin\", \"SysCoin\", \"TeslaCoin\", \"TigerCoin\", \"TittieCoin\", \"TorCoin\", \"TerraCoin\", \"UnbreakableCoin\", \"Unobtanium\", \"UroCoin\", \"UnitaryStatus Dollar\", \"UltraCoin\", \"ViaCoin\", \"VeriCoin\", \"Vertcoin\", \"WorldCoin\", \"X11 Coin\", \"Crypti\", \"JouleCoin\", \"StealthCoin\", \"ZCC Coin\", \"ByteCoin\", \"DigitalNote \", \"BurstCoin\", \"StorjCoin\", \"MonaCoin\", \"Neutron\", \"FairCoin\", \"Gulden\", \"RubyCoin\", \"PesetaCoin\", \"Kore\", \"Wild Beast Coin\", \"Dnotes\", \"Flo\", \"8BIT Coin\", \"Sativa Coin\", \"ArtByte\", \"Folding Coin\", \"Ucoin\", \"Unitus\", \"CypherPunkCoin\", \"OmniCron\", \"Vtorrent\", \"GreenCoin\", \"Cryptonite\", \"MasterCoin\", \"SoonCoin\", \"1Credit\", \"IslaCoin\", \"Nexus\", \"MarsCoin \", \"Crypto\", \"Anarchists Prime\", \"Droidz\", \"BowsCoin\", \"Squall Coin\", \"Song Coin\", \"BitZeny\", \"Diggits\", \"Expanse\", \"Paycon\", \"Siacoin\", \"Emercoin\", \"EverGreenCoin\", \"MindCoin\", \"I0coin\", \"Decred\", \"Revolution VR\", \"HOdlcoin\", \"EDRCoin\", \"Hitcoin\", \"Gamecredits\", \"DubaiCoin\", \"CarpeDiemCoin\", \"PWR Coin\", \"BillaryCoin\", \"GPU Coin\", \"Adzcoin\", \"SoilCoin\", \"YoCoin\", \"SibCoin\", \"EuropeCoin\", \"ZeitCoin\", \"SwingCoin\", \"SafeExchangeCoin\", \"Nebuchadnezzar\", \"Francs\", \"BolivarCoin\", \"Ratecoin\", \"Revenu\", \"Clockcoin\", \"VIP Tokens\", \"BitSend\", \"Omni\", \"Let it Ride\", \"PutinCoin\", \"iBankCoin\", \"Frankywillcoin\", \"MudraCoin\", \"PizzaCoin\", \"Lutetium Coin\", \"Komodo\", \"GoldBlocks\", \"CarterCoin\", \"Karbo\", \"BitTokens\", \"ZayedCoin\", \"MustangCoin\", \"ZoneCoin\", \"Circuits of Value\", \"RootCoin\", \"DopeCoin\", \"BitCurrency\", \"DollarCoin\", \"Swiscoin\", \"Shilling\", \"BuzzCoin\", \"Opair\", \"PesoBit\", \"Halloween Coin\", \"ZCoin\", \"CoffeeCoin\", \"RoyalCoin\", \"GanjaCoin V2\", \"TeamUP\", \"LanaCoin\", \"Elementrem\", \"ZClassic\", \"ARK\", \"InsaneCoin\", \"KiloCoin\", \"ArtexCoin\", \"EmberCoin\", \"XenixCoin\", \"FreeCoin\", \"PLNCoin\", \"AquariusCoin\", \"Kurrent\", \"Creatio\", \"Eternity\", \"Eurocoin\", \"BitcoinFast\", \"Stakenet\", \"BitConnect Coin\", \"MoneyCoin\", \"Enigma\", \"Cannabis Industry Coin\", \"Russiacoin\", \"PandaCoin\", \"GameUnits\", \"GAKHcoin\", \"Allsafe\", \"LiteCreed\", \"OsmiumCoin\", \"Bikercoins\", \"HexxCoin\", \"Klingon Empire Darsek\", \"Internet of People\", \"KushCoin\", \"Printerium\", \"PacCoin\", \"Impeach\", \"Citadel\", \"Zilbercoin\", \"FirstCoin\", \"BeaverCoin\", \"FindCoin\", \"VaultCoin\", \"Zero\", \"OpenChat\", \"Canada eCoin\", \"Zoin\", \"RenosCoin\", \"DubaiCoin\", \"VirtacoinPlus\", \"TajCoin\", \"Impact\", \"EB3coin\", \"Atmos\", \"HappyCoin\", \"Coinonat\", \"MacronCoin\", \"Condensate\", \"Independent Money System\", \"ArgusCoin\", \"LomoCoin\", \"ProCurrency\", \"GoldReserve\", \"BenjiRolls\", \"GrowthCoin\", \"ILCoin\", \"Phreak\", \"Degas Coin\", \"HTML5 Coin\", \"Ultimate Secure Cash\", \"EquiTrader\", \"QTUM\", \"Quantum Resistant Ledger\", \"Espers\", \"Dynamic\", \"Nano\", \"ChanCoin\", \"Dinastycoin\", \"Denarius\", \"DigitalPrice\", \"Virta Unique Coin\", \"Bitcoin Planet\", \"Unify\", \"BritCoin\", \"SocialCoin\", \"ArcticCoin\", \"DAS\", \"Linda\", \"LeviarCoin\", \"DeepOnion\", \"Bitcore\", \"gCn Coin\", \"SmartCash\", \"Signatum\", \"Onix\", \"Cream\", \"Bitcoin Cash\", \"Monoeci\", \"Draftcoin\", \"Vechain\", \"Sojourn Coin\", \"Stakecoin\", \"NewYorkCoin\", \"FrazCoin\", \"Kronecoin\", \"AdCoin\", \"Linx\", \"CoinonatX\", \"Ethereum Dark\", \"Sumokoin\", \"Obsidian\", \"Cardano\", \"Regalcoin\", \"BitcoinZ\", \"TrezarCoin\", \"Elements\", \"TerraNovaCoin\", \"VIVO Coin\", \"Rupee\", \"Bitcoin Gold\", \"WomenCoin\", \"Theresa May Coin\", \"NamoCoin\", \"LUXCoin\", \"Pirl\", \"Xios\", \"Bitcloud 2.0\", \"eBoost\", \"KekCoin\", \"BlackholeCoin\", \"Infinity Economics\", \"Pura\", \"Innova\", \"Ellaism\", \"GoByte\", \"Magnet\", \"Lamden Tau\", \"Electra\", \"Bitcoin Diamond\", \"SHIELD\", \"Cash & Back Coin\", \"UltraNote\", \"BitCoal\", \"DaxxCoin\", \"Bulwark\", \"Kalkulus\", \"AC3\", \"Lethean\", \"GermanCoin\", \"LiteCoin Ultra\", \"PopularCoin\", \"PhantomX\", \"Photon\", \"Sucre\", \"SparksPay\", \"Digiwage\", \"GunCoin\", \"IrishCoin\", \"Trollcoin\", \"Litecoin Plus\", \"Monkey Project\", \"Pioneer Coin\", \"UnitedBitcoin\", \"Interzone\", \"TokenPay\", \"1717 Masonic Commemorative Token\", \"My Big Coin\", \"TurtleCoin\", \"MUNcoin\", \"Unified Society USDEX\", \"Niobio Cash\", \"ShareChain\", \"Travelflex\", \"KREDS\", \"Tokyo Coin\", \"BiblePay\", \"LitecoinCash\", \"BitFlip\", \"LottoCoin\", \"Crypto Improvement Fund\", \"Stipend\", \"Poa Network\", \"Pushi\", \"Ellerium\", \"Velox\", \"Ontology\", \"Callisto Network\", \"BitTube\", \"Poseidon\", \"Aidos Kuneen\", \"Bitspace\", \"Briacoin\", \"Ignition\", \"Bitrolium\", \"MedicCoin\", \"Alpenschillling\", \"Bitcoin Green\", \"Deviant Coin\", \"Abjcoin\", \"Semux\", \"FuturoCoin\", \"Carebit\", \"Zealium\", \"Monero Classic\", \"Proton\", \"iDealCash\", \"Jumpcoin\", \"Infinex\", \"Bitcoin Incognito\", \"KEYCO\", \"HollyWoodCoin\", \"GINcoin\", \"PlatinCoin\", \"Loki\", \"Newton Coin\", \"Swisscoin\", \"Xt3ch\", \"MassGrid\", \"TheVig\", \"PluraCoin\", \"EmaratCoin\", \"Dekado\", \"Lynx\", \"Poseidon Quark\", \"BitcoinWSpectrum\", \"Muse\", \"Motion\", \"PlusOneCoin\", \"Axe\", \"Trivechain\", \"Dystem\", \"Giant\", \"Peony Coin\", \"Absolute Coin\", \"Vitae\", \"HexCoin\", \"TPCash\", \"Webchain\", \"Ryo\", \"Urals Coin\", \"Qwertycoin\", \"ARENON\", \"EUNO\", \"MMOCoin\", \"Ketan\", \"Project Pai\", \"XDNA\", \"PAXEX\", \"Azart\", \"ThunderStake\", \"Kcash\", \"Xchange\", \"Acute Angle Cloud\", \"CrypticCoin\", \"Bettex coin\", \"Actinium\", \"Bitcoin SV\", \"BitMoney\", \"Junson Ming Chan Coin\", \"FREDEnergy\", \"HerbCoin\", \"Universal Molecule\", \"Lithium\", \"PirateCash\", \"Exosis\", \"Block-Logic\", \"Oduwa\", \"Beam\", \"Galilel\", \"Bithereum\", \"Crypto Sports\", \"Credit\", \"SLICE\", \"Dash Platinum\", \"Nasdacoin\", \"Beetle Coin\", \"Titan Coin\", \"Award\", \"BLAST\", \"Bitcoin Rhodium\", \"GlobalToken\", \"Insane Coin\", \"ALAX\", \"LiteDoge\", \"SolarCoin\", \"TruckCoin\", \"UFO Coin\", \"OrangeCoin\", \"BlakeCoin\", \"BitstarCoin\", \"NeosCoin\", \"HyperCoin\", \"PinkCoin\", \"Crypto Escudo\", \"AudioCoin\", \"IncaKoin\", \"Piggy Coin\", \"Crown Coin\", \"Genstake\", \"SmileyCoin\", \"XiaoMiCoin\", \"Groestlcoin\", \"CapriCoin\", \" ClubCoin\", \"Radium\", \"Bata\", \"Pakcoin\", \"Creditbit \", \"OKCash\", \"Lisk\", \"HiCoin\", \"WhiteCoin\", \"FriendshipCoin\", \"Fiii\", \"JoinCoin\", \"Triangles Coin\", \"Vollar\", \"EOS\", \"Reality Clash\", \"Oxycoin\", \"TigerCash\", \"Waves\", \"Particl\", \"BitTorrent\", \"Nxt\", \"ZEPHYR\", \"Gapcoin\", \"Beldex\", \"Horizen\", \"BitcoinPlus\"], \"legendgroup\": \"\", \"marker\": {\"color\": [0, 0, 0, 1, 1, 1, 0, 1, 1, 1, 0, 1, 0, 0, 1, 0, 1, 1, 0, 0, 1, 1, 1, 1, 1, 0, 1, 1, 1, 0, 1, 0, 1, 1, 0, 0, 1, 1, 1, 1, 1, 1, 0, 0, 1, 1, 1, 1, 1, 0, 0, 1, 0, 1, 1, 1, 1, 0, 1, 1, 0, 1, 0, 0, 0, 1, 1, 1, 0, 0, 0, 0, 0, 1, 1, 1, 0, 0, 1, 0, 1, 0, 0, 1, 1, 1, 1, 0, 0, 1, 0, 1, 1, 0, 0, 1, 0, 0, 1, 1, 0, 0, 1, 0, 0, 1, 0, 1, 0, 1, 0, 1, 0, 0, 1, 1, 0, 1, 1, 1, 0, 1, 1, 1, 1, 1, 0, 0, 1, 1, 1, 0, 1, 0, 1, 1, 0, 1, 0, 1, 0, 0, 1, 1, 0, 1, 1, 0, 0, 1, 0, 1, 0, 0, 0, 1, 1, 1, 1, 0, 0, 0, 0, 0, 1, 1, 0, 0, 0, 0, 0, 1, 0, 0, 0, 0, 0, 1, 0, 1, 0, 0, 1, 0, 1, 0, 0, 1, 0, 1, 0, 1, 0, 1, 0, 0, 0, 0, 1, 0, 0, 0, 0, 0, 1, 1, 0, 0, 1, 1, 0, 0, 0, 0, 0, 1, 0, 0, 0, 0, 0, 0, 0, 0, 1, 0, 0, 0, 0, 0, 0, 1, 1, 1, 0, 0, 0, 0, 1, 0, 1, 0, 0, 1, 0, 1, 1, 0, 1, 1, 0, 1, 0, 0, 0, 1, 0, 0, 1, 0, 0, 0, 0, 0, 0, 0, 1, 0, 1, 0, 0, 0, 0, 1, 0, 1, 0, 1, 1, 1, 1, 0, 1, 0, 0, 1, 0, 1, 1, 1, 0, 1, 0, 1, 1, 1, 0, 1, 0, 1, 0, 0, 3, 1, 0, 1, 1, 1, 1, 1, 0, 0, 1, 0, 0, 0, 1, 0, 1, 0, 1, 0, 1, 0, 0, 0, 0, 1, 0, 0, 1, 0, 0, 0, 1, 1, 1, 1, 0, 0, 0, 0, 1, 0, 1, 1, 1, 0, 0, 1, 1, 0, 0, 1, 0, 1, 1, 1, 0, 1, 1, 0, 0, 0, 1, 1, 1, 0, 0, 0, 1, 1, 0, 1, 1, 1, 1, 0, 3, 3, 1, 1, 1, 0, 3, 0, 0, 0, 0, 1, 1, 1, 1, 0, 0, 0, 1, 0, 1, 0, 0, 0, 0, 1, 0, 0, 1, 0, 0, 1, 1, 0, 1, 0, 1, 1, 1, 1, 0, 0, 1, 0, 1, 0, 0, 0, 0, 0, 0, 1, 1, 1, 0, 0, 0, 0, 0, 0, 1, 0, 1, 1, 1, 1, 0, 0, 0, 0, 1, 0, 0, 1, 0, 0, 1, 3, 1, 0, 1, 1, 0, 0, 1, 0, 1, 1, 1, 1, 1, 0, 1, 0, 1, 0, 0, 1, 0, 0, 0, 0, 0, 1, 1, 1, 0, 0, 0, 1, 0, 1, 0, 1, 0, 0, 0, 0, 1, 0, 0, 0, 1, 0, 1, 0, 1, 0, 0, 0, 1, 1, 0, 0, 0, 0, 0, 0, 1, 1, 0, 1, 0, 1, 0, 0, 3, 0, 2, 0, 0, 0, 1, 1, 0], \"coloraxis\": \"coloraxis\", \"symbol\": \"circle\"}, \"mode\": \"markers\", \"name\": \"\", \"scene\": \"scene\", \"showlegend\": false, \"type\": \"scatter3d\", \"x\": [-0.32614485193546505, -0.3093897933854821, 2.3248718386056413, -0.1530816557009795, -0.16125783386451015, -0.16008432669128483, -0.4065773492127905, -0.17097233246775909, -0.1596907760016533, -0.16930386293820968, -0.2644308477601724, 0.16143553244151504, -0.3179661304178883, -0.2549091693046341, -0.1612370398977196, -0.24271318259958696, -0.24187836550368824, -0.16085136405854053, -0.32580251956005835, -0.31833936293300497, -0.09341276006098508, 2.5765369298864207, -0.15015015470974813, -0.15809118382989204, -0.16065422947083283, -0.32463316041261375, -0.22572991940014842, -0.21738555808002918, -0.16070338779282725, -0.32614076461132435, -0.16121920800138007, -0.32612495814156195, -0.16130615859180836, -0.24196820569039224, 0.6110958812580076, -0.3832085438332037, 0.18530576978928923, 0.22689884244970873, 0.08882812034191298, -0.16105103486322633, -0.15663145032350592, -0.16098996839837235, -0.3051546580618345, -0.2543073015652339, -0.16136348062760994, -0.1838021568140972, -0.14046788746318042, -0.16015180001382262, -0.16043077443488463, -0.32419268249695404, -0.3232331832290857, 1.5974080107399415, -0.40647146658386873, -0.1530428118410772, -0.15770476027790387, -0.1610776247316605, -0.16143443994754042, -0.39973130050006633, -0.1606895074961215, -0.1499965888325286, -0.0015790145056333086, -0.16131503110399537, -0.2810652442789371, -0.2628375519384898, -0.27399872343239834, -0.02544017398959013, -0.15312085089299982, -0.15494321805836758, -0.27462435194445484, -0.35338195313768495, -0.3204148242608915, -0.32453758467045624, 0.03396492757516201, -0.16129433392688483, -0.15937762572666617, -0.1607781742768939, -0.3432290841388642, -0.40684513150082424, -0.14020001794516068, -0.22840662023487562, -0.1525815989971575, -0.27959400273672447, -0.40675626241910023, -0.15287040108887892, -0.152853205455336, -0.15344735504677312, -0.24214310122575813, -0.3012371076557433, -0.32481474853600223, -0.16100925343943417, -0.2581990590387022, -0.1915771804401711, -0.1580958886700395, -0.40672055363962595, -0.2288771609702868, -0.15264926991659547, -0.2744040110204164, -0.31719675986181217, 3.8740835118406434, 0.45387637566359407, -0.19135959779944445, -0.28849935810001687, -0.1598704081345163, -0.31717340639367886, -0.3826269378954388, -0.14438068439793486, -0.26281774031368976, -0.15858201243684875, -0.2747001252494109, -0.1614366585446383, -0.25744123796021107, -0.15844632120846022, -0.3261268219245391, -0.27465205254570424, -0.14459198118318764, -0.1442190615908647, -0.3436763271865135, -0.12761166525392864, -0.19815297129363113, -0.161309033696624, -0.32585969751020855, -0.03352268151866376, -0.13133316691581962, -0.1614456047642288, -0.15314878180122987, 0.4945213156024916, -0.4068265588859099, -0.37419715866751446, -0.24152682838932896, -0.16510564773083722, -0.15288713306585716, -0.42122182002997244, -0.2418133276877144, -0.42753837225986446, -0.15955855014775833, -0.15874624114160393, -0.2612102617511552, -0.1623311481929791, -0.27417096838001503, 0.37130823880233677, -0.3104796901551779, -0.24516879477949144, -0.24184893127336832, -0.15304394039007613, -0.08187450033359997, -0.1573806695593901, -0.16855704544708083, -0.31793688451902813, -0.0824607192348636, -0.1600008347172411, -0.31800095557035346, 0.26779982230056165, -0.2410379595816828, -0.3257348448463221, -0.2610783076225472, -0.24100486425556095, -0.15388895818212014, -0.16024943566856203, -0.1710643206925223, -0.4039793165665506, 0.8968888760289153, -0.3177998515120187, -0.12377677022123336, -0.304836144967631, -0.16123431228312513, -0.24181195134197117, -0.4046575277779426, -0.3165360687369712, -0.3141907904397969, -0.3630633476706081, -0.4055544794940417, -0.16144566358896362, -0.3067159584072795, -0.30189651154020614, -0.3257731465231381, -0.3242034423627233, -0.21032989236192223, -0.24196275065059517, -0.3310969062275667, -0.3162977348204972, -0.40629745817008805, -0.3249728941710469, 0.29790192735200305, -0.3179817786804203, -0.15330548724038082, -0.4068156841611856, -0.32596340198698337, -0.10757136846211621, -0.32612102332952625, -0.15859627630975748, -0.2610683380526906, -0.1532638863947053, -0.21783807475955153, -0.16110713830056478, 0.025050199345416975, -0.3037873680784209, -0.32573305977371636, -0.3928985755535628, -0.1610325313919173, -0.3031123960651231, -0.21176881307686793, -0.41439022406174186, -0.30285935551800386, -0.29123302956135816, -0.16207186007722055, -0.16932559939322345, 3.620068496837805, -0.4064059258053692, -0.08774438315027419, -0.22847089302471643, 0.8637384443143112, -0.4067703442028411, -0.30425372185119, -0.3256601279642045, -0.3258152942080302, -0.239778447620167, -0.304836144967631, -0.40634278446930333, -0.3178436992423667, -0.3256608805846872, -0.42563884333973173, -0.3258090927209311, -0.321371450079517, -0.40679949477333327, 0.297896284875377, -0.32501519175526133, 0.3840436045328035, -0.32600949841707394, -0.3260804796787633, -0.33213734262050787, -0.36198495802119235, -0.16142729585360185, 0.298027731831358, -0.16564920299267125, -0.32228536720137463, -0.3179580627565763, -0.4067089414168535, -0.3258570318280972, 0.4774577243158903, -0.32598467818482335, -0.1697297977178496, -0.2627236103340313, -0.2344187204557357, -0.16139540637406305, -0.21153536376837412, -0.23465448431568256, -0.16933805153968992, -0.3067307488695102, -0.15951814454444851, -0.16536600285251457, -0.2624633656299956, -0.16894177667734628, -0.4059704436511058, -0.40564486431026703, -0.40470185803479164, -0.13214950459012692, -0.3030728551303003, -0.4058677676959662, -0.19957454238156047, -0.2974413251311668, -0.40178552858228, -0.3259276547089135, -0.3259268232893391, -0.3190085166288653, 0.2808540110464281, -0.40634901361633813, -0.1609552942543065, -0.2452658663827684, -0.11943902884365512, -0.3048706047127509, -0.3251338132347255, 0.8956466930314072, -0.25359195328040735, -0.1607762945043365, -0.3054874432492831, -0.16958692717176502, 0.5775213716035296, -0.14981976835083435, -0.031205158068134786, -0.1739802360765614, 0.334222254702716, -0.3646076195401741, -0.24101326829973174, -0.36310136429513534, -0.42555129456783414, -0.1610974375173419, -0.27433537020855236, -0.16085938633041466, -0.2414102180100578, -0.2419909517482217, 0.14147197068397852, 0.2982935281474671, -0.27440655693741656, -0.16825174475550414, 3.2675352981846864, -0.11473891346659401, -0.2944139721410619, -0.23281023844477647, -0.4250534591480614, -0.15308081530163573, -0.4066229647147848, -0.2627983064957985, 4.257105526891003, -0.08658463229458561, -0.304736071695262, 1.5952233882626203, -0.1611958239153395, -0.1606442947825773, -0.160343582460917, -0.1603304411964987, -0.32556078408706046, -0.3260633135145562, 0.2984782302614368, -0.3228220942345208, 0.7136117320033563, -0.4065634271556671, 0.04420803738999769, -0.348352804446491, -0.1961219472052155, -0.3260186583469458, -0.18851748474083194, -0.29403283242497846, -0.16918324348411112, 0.44738178585082755, -0.3162950638209729, -0.3492880213775666, -0.37838530302439266, -0.15264091710232094, -0.32596871210004225, -0.3935633787679918, -0.15951634380708987, -0.2960140928976644, -0.3258384134462683, -0.08041871153314893, -0.23751002796184373, -0.18836200250893495, -0.1604274647063261, -0.18846279064731508, -0.4053491770389593, 3.624952053540347, 0.19802825976777078, -0.2710586751891575, -0.1177880482403067, -0.3232842808063312, 1.1406571929283993, 0.297878940373803, -0.08488008786588609, -0.3013766332765199, -0.3320226079352025, -0.23724972788549487, -0.15863685445341108, 0.09069728147666417, -0.324971900447829, -0.07711077031582439, -0.4059337274133118, 1.0938719471180467, -0.2419648047165578, -0.18851504330938304, -0.3311825247993346, -0.1815133862821828, -0.16044258927615904, -0.3124676079249584, -0.3260855670914875, -0.34364810011444635, -0.24188979297869453, -0.1530601007587511, -0.20225680607896368, -0.3069994436661218, -0.2642432452377049, -0.25584306109565297, 8.080693640482265, -0.14494660345592686, -0.3216058173784946, 0.30177549493509587, 0.03268340743900401, -0.1521415141552997, -0.17705318571772732, -0.20328422420823195, -0.2037355290939787, -0.4787490238705783, -0.16101953683905948, 0.1477940217301858, -0.23599727351506142, -0.3669782915513217, -0.32526307888173356, -0.4066402688426293, -0.34218472981061343, -0.26195342832982604, -0.2900922064215389, -0.1131927060304879, 0.305848045227254, -0.16125789917840358, -0.14290655452396492, -0.3642042838919598, -0.3261130744298047, -0.32609468031315986, -0.1681686519833276, -0.25630311453308097, -0.1588031791266868, -0.31860667404879867, -0.3043282399407922, -0.3258095757267774, 3.8088497621377146, -0.24105426601808325, -0.3922240880948897, -0.30451796409054654, 0.29806248063695556, -0.30166136943285227, -0.2723758017212415, -0.19963439296072202, -0.16549355027786564, -0.36303126517594575, -0.1619079715211683, -0.26249081613813235, -0.16111739828870553, 0.3020136910803102, 0.5843754708962641, 2.116948417686443, -0.1281209931611113, -0.2627442173646274, -0.1647431835036236, -0.35692414082627716, 0.31174477479167195, -0.32528059210239124, -0.18151560633854552, 2.285396000610546, -0.3277055023416569, -0.25372061223638076, 0.9786090706648511, -0.20008506186751296, -0.1596954988150449, -0.24194686369699872, -0.36398737135432063, -0.3321367613592993, -0.3952572334072848, -0.14278119461116326, -0.35695383966087846, -0.33084907561799737, -0.16128261439596928, -0.31894827876174947, -0.15851440420300741, -0.14585324821413082, -0.1762519892368047, 3.1212789998012616, -0.34322310687807944, -0.4061106536475284, -0.2599740600318798, -0.3036125126277284, -0.11268198742679199, -0.33993841193305546, -0.3430836184821277, -0.2419180622246918, -0.18478097751715772, -0.36006433287044176, -0.19950944964165906, -0.23520777371388726, -0.06333108679712308, -0.27918462560920343, -0.16051166005424913, -0.15308085307465794, 0.4690514838764563, -0.13244682321036416, 0.37828123771835254, -0.3945478733287926, -0.15115951194225796, -0.1515538794928482, -0.27032412320478155, -0.14800335594092653, -0.16016857379436064, -0.32581359259079373, -0.1672320925113823, -0.39500657939716316, -0.16901511663217206, -0.33225439850702015, 0.5858539094677165, -0.19735936322062553, -0.3437027165565432, -0.32529352474339585, -0.33660885651391437, -0.31138366459618944, -0.40366105077013514, -0.15235290038318003, -0.11009396080394339, -0.15121435327650387, -0.40633918551421694, 3.637262181817516, 0.11158776892427374, 0.5386969728030824, -0.4038653946816045, -0.1132583123116574, -0.32467536388618495, -0.10173015355717648, -0.32550523582631313, -0.25494195816118814, -0.32602654395970315, -0.3979199274789043, -0.14474339941047537, -0.23923058415616, -0.09641412730757123, -0.39364375120345757, -0.15286976806111013, -0.325300865255498, 0.5584591308112798, -0.3183261880024346, -0.2169440858300957, -0.40288853148463344, -0.32373113991286295, -0.3051133154600691, -0.1613599152628923, -0.15930393847696156, -0.41933005880226176, -0.3164728425268135, 3.620462545471435, -0.06894462793389473, -0.32091018090269635, -0.35300562246452005, -0.5220861631504397, -0.12835060531414852, -0.27480794643097606, -0.1391057900880811, 3.6303843547169214, -0.1621052056437998, 3.6316353205699166, -0.2357315424610915, -0.32737999754694536, -0.30504883072699057, 34.18791475000963, -0.2684185975032324, 2.4232740003726594, -0.3241788925861713, 0.31975936029632346, -0.1693049257267232, -0.2631429655878859], \"y\": [1.0482803612214429, 1.0476970586876, 1.3639499230459389, -1.3361395285172655, -1.961954277166723, -1.0166466610645029, 1.1226406849756232, -2.164477542628946, -1.962120509479713, -2.0417905656609348, 1.8304300640325, -1.8347156370061644, 0.7287133369685116, 0.5398882587409201, -1.0165881326042219, 1.737923795193494, -0.9422091306221166, -1.0166229926673407, 1.0482643323122909, 1.0481813481876718, -1.8182413110846098, -1.3189212322122155, -1.3362804140272577, -1.0167876336215729, -1.0166505826042878, 1.0482611853594912, -0.48903111271571104, -1.2672247808724781, -1.0166138346556304, 1.0482799609406444, -1.0165883588028208, 1.0482794119725594, -1.016581778004974, -0.9422065971458012, 1.0264401831402876, 0.7976961757127436, -1.831920603917909, -1.3555803765718404, -1.0291540653326412, -1.0165904920884514, -1.0168408519948962, -1.01659893288693, 1.4350315603951334, 0.44840830032618023, -1.0165797237976202, -1.5988140372581505, -1.0178270123687394, -1.0166360482218582, -1.016634074498611, 1.0481719669601997, 0.9335669739768995, -1.102023346529055, 1.1226393418485756, -1.3361400212537997, -1.0168032825556477, -1.0165894578702186, -1.0165719340116852, 1.9054903318371497, -1.0166097134929202, -2.1043111501959455, 0.8561314075710571, -1.0165794771144552, 0.7265745803114746, 0.8594342104451796, 1.6158619575996418, -1.0287499520549634, -1.3361390313240762, -1.0168881981543152, 1.6158698937321871, 0.46633062471835, 1.0479149673369605, 1.0481916743974304, 1.043712348626588, -1.016587405826269, -1.0167713150344115, -1.0166150004531465, 0.9338206230944289, 1.1226594134458856, -1.3369071661521252, 0.05952542538478379, -1.336164000136236, 1.4546598745505162, 1.1226513175908566, -1.3361568437034672, -1.3361835449532913, -1.3361204284220891, -0.9421918339493299, 1.046849326294526, 1.0481937963879733, -1.0165924159366808, 0.6051294894532666, -1.3175815066642949, -1.0167983210701934, 1.1226540007822128, 0.059601086647222606, -1.336161739537522, 1.6158670986952846, 1.0474699299341894, -2.4400668542300292, -2.275090742334221, 2.2279876122320927, 1.5101169447058354, -1.0166640936738875, 0.728671222703669, 0.7976918505373087, -1.0179581537769054, 0.8594452353683009, -1.0167231348074384, 1.6158624918295457, -1.0165727965378741, 0.8590285720013626, -1.0167204054998462, 1.0482801325390203, 1.6158632758731597, -1.0174815649619164, -2.0987050916916505, 0.9338123579120187, -1.8164136475264507, -1.535157249758596, -1.0165749335157805, 1.0482628055655392, -1.025162803647269, -2.096212276499618, -1.0165712832668519, -1.336138677018949, -1.0890088613086593, 1.1226591785481543, 2.1102419077037093, -0.9422226499055133, -2.1309232968839122, -1.3361648272868198, 1.7845102729446294, -0.9422106525547069, 0.9507308038326611, -1.0167413102890768, -1.0167793241830636, 0.859355151986157, -1.9619524445930228, 1.6158292963229104, -2.1959962529248864, 0.7279367791206117, 1.7381805405508575, -0.9422067162998894, -1.3361400069380929, 0.9281080002268318, -1.016768769563902, -2.233034446254154, 0.7287129659826548, 1.1000412404291044, -1.0166477201648374, 0.7287217933566149, -1.3565356775126158, 1.4146027457042638, 1.0482458894686026, 0.8592691136235117, -0.9422648141874043, -2.2813323238658434, -1.0167033531160763, -2.0307653912789596, 1.122355442201021, 0.7757387895885317, 0.728698683074466, 1.0621424210040078, 1.4350135815533847, -1.0165874702798952, -0.942213457710809, 1.122579394947419, 0.7285553064323195, 0.7283148936627382, 1.4160879213690778, 1.12254616967666, -1.016571280408976, 1.4380623779964326, 1.0465789211616168, 1.0482447491711107, 1.0481860419350935, 1.4268831121330083, -0.9422115448131743, 0.933208846496141, -1.614411053199409, 1.1226176206625924, 1.0482027717168663, -2.2661499243083094, 0.7287142323918638, -1.3361288390467436, 1.1226569498288559, 1.0482634241383375, -1.8175041689320268, 1.0482800589835193, -1.016746380281822, 0.859423044103116, -1.3361299955891643, 0.6185224962480006, -1.0165960527316507, 1.728412954754614, 1.4349626438495193, 1.0482751376441906, 1.1214371148985347, -2.140913210507545, 1.4349777772881704, 1.4270390073793515, 1.8764738461658463, 1.4347926701492124, 1.7411323969690047, -1.9619622144749722, -2.04179028993279, 2.678303058963615, 1.1226329350659887, -1.0244749983399781, -0.9427137288073129, 1.600837312584635, 1.122655779984816, 1.4349852857555954, 1.0482473530387622, 1.0482469099732399, -0.9423807284456367, 1.4350135815533847, 1.1226112263865258, 0.7287131777707662, 1.04825122354625, 0.6058697751066519, 1.0482565882468082, 1.0477663497530931, 1.1226553506170287, -2.266157518900147, 1.0481656743535082, 0.8285793284374803, 1.0482695842682814, 1.0482772338312218, 1.387210533525544, 0.5296280196184533, -1.0165729754389394, -2.2661619740091896, -2.13087752107664, 1.04788294133683, 0.7287139315540481, 1.122651167534384, 1.0482627717512134, -1.0210124375129492, 1.0482630435656735, -2.164622235241423, 0.8594057104894212, 0.6765985990023429, -1.0165738299725229, 1.4270276657374408, -0.9429837517420595, -2.041787344279539, 1.0473371680014196, -1.0166649939048997, -2.130888779653868, 0.8594167474959744, -2.142747388062056, 1.1225786262517006, 1.8497678286179555, 1.1225555649297532, -1.019730171280513, 1.434928288810288, 1.122577323801487, -0.6487188417020769, 1.434654946629063, 1.1222467706628663, 1.0482628228498496, 1.048257663511068, 1.0474929121697594, 0.4808314642522793, 1.1226252438890003, -1.0166018261825795, 0.8578287403295375, -1.338293962378993, 1.4350070494344735, 1.0481943591201106, 1.6610043759324384, 0.5397408178006179, -1.016629520322979, 1.4380004487492375, -2.164568293620676, 1.6502974914115442, -2.1592122666242535, -2.19112749909131, -2.1747431094114162, -2.2679975289820815, 1.4161632644854014, -0.9422758583699533, 1.4160674958839834, 1.8713206592918536, -1.016588702528296, 1.6158453202546657, -1.0166305570713432, -0.9422429460699596, -0.9422069358426326, 1.0075024023007324, -2.2661855564540994, 1.6158539603847748, -2.4198609200504486, -1.1994525193768386, -1.2640197381989056, 1.475242440433469, -0.9430768385307067, 1.8713143442218065, -1.3361395391777844, 1.1226499700968466, 0.8594328582612244, 5.518551504902145, -1.0248381719791428, 1.4349833200931135, -1.038854295623626, -1.0165879585069857, -1.0166395578380447, -1.0166545231789226, -1.0166546898765945, 1.048239324327635, 1.0482763998493667, -2.266212214323505, 1.8336163940421668, 1.4785760048942722, 1.1226370237522052, -2.059119750273852, 0.46599068738345945, -0.9440300785388227, 1.0482677955363968, -1.5985388734612067, 0.5584901401641688, -2.041792095725431, 1.021045025991201, 0.7286377793025439, 1.4151395946477474, 1.645505976007226, -2.281436181563971, 1.0482634914974174, 1.5758926131696864, -1.0166650167473539, 1.5530160838183875, 1.0482661677529514, 0.5314112306835195, -0.9424945282363553, -1.5985533903988411, -1.962159949241325, -1.5985429124953265, 1.122540080782226, 2.677979764173464, 1.3881254381448636, 1.6156783088271436, -1.816998230673891, 1.0480977206498379, -2.3360719155175858, -2.2661513750278846, -1.9698923758300946, 1.2273170111638216, 1.3872055934883158, -0.9426372150113002, -2.165330581780844, 1.008146482063299, 1.0481609436552415, -1.021125264961558, 1.1226130067176696, -1.2122769515246083, -0.9422078947510294, -1.598534722885281, 1.387125244559931, -1.5989573660201686, -1.016628177998239, 1.0474796328052711, 1.0482768215220846, 0.9338113029257669, -0.9422110764367688, -1.3361392207080747, -1.3216152610421052, 1.438071897879035, -0.08591885341354277, 0.5915068135807239, -3.0617923715677917, -2.133327602695205, 1.048061096913769, -2.266426258040967, -1.0260026315757516, -2.281403274989608, -1.3184738194050138, 1.4263755828778775, 6.423142968262841, 1.8550745046602204, -1.0166041332037705, -1.0333218444203809, -0.9426182562513038, 0.7432387841691513, 0.3556566407236128, 1.1226393923418272, 1.5814957039295594, 0.8593478529131522, 1.501441972226774, -1.9670939937462062, -2.2669406762835833, -1.016587868003084, -2.1380550500409545, 1.4161302711794304, 1.048277867378474, 1.0482762401995394, -2.0418391151643904, 0.8590141348422554, -2.141135653066862, 1.4676570601745877, 1.4349597478994616, 1.0482552005252248, 2.7943740912180344, -0.942275338311611, 1.5758756241928518, 1.4349677299550336, -2.266157815099545, 0.6844147815773692, 1.0440286857377241, -0.648699089913943, -2.130890841467813, 1.4095962182165584, -2.220275008278208, 0.8594229682858967, -2.1409045374916884, -2.266613267940589, -2.2559725325742876, -2.4174517268322884, 1.0386597900127559, 0.8594136380577213, -2.1378617730349747, 1.7471271135191904, -2.2670154766267667, 1.0482108564278942, 1.5492968828959819, 0.42383239562268177, 1.3867117684732453, 0.5398120182176247, 2.1136035516876976, -1.1915879187608924, -2.1367439695478647, -0.9422089586429867, 0.8732110412157353, 1.3872063446065934, 1.5760498948072486, 0.8461584834208159, 0.7473002522481218, 1.3871349532238773, -1.0165883247737804, 1.0474921480490575, -2.165855189615558, -2.1682094622566543, -0.4834756944317906, -2.4166103766519704, 0.9337822164377011, 1.122615251036812, 0.8592279628152721, 1.4348656440976828, -1.3381009061180391, 0.8048284707155621, 0.9337490854274816, -0.9422121116883474, 1.0339425157675508, 2.588472051783818, -1.19164952776994, -1.5697159709688557, -2.0484168252738892, 1.3926716953971987, -2.140963445248787, -1.3361395386986312, 1.6177909568778723, 0.9311468383664174, -2.2727937191979297, 1.5760068524814586, -2.0564466476005294, -2.0563859669089393, -0.165837483951276, -2.086691918834754, -1.0166706816590092, 1.048261523797797, -2.0419853624727176, 1.5760370384543698, -2.041801118217251, 1.3872131543725477, 0.9845816707472034, -1.5352370091482186, 0.9338129017399296, 1.0482110204791664, 1.5811183269872846, 1.7431345011177555, 1.1223263157079406, -1.336178740562699, -0.4489806406489311, -1.3362656632202685, 1.1226320884616754, 2.6774751473752323, 1.018335349113283, -1.0938204700284442, 1.1226216160151798, -1.6022624203821825, 1.0481223358589375, -2.0618788709752662, 1.048234435278601, 0.5398827508130991, 1.0482788605074476, 1.1221977352974173, -1.017479644213264, 1.0398601440863662, 0.7257858541833296, 1.1217950296281067, -1.3361568517334599, 1.0482592013685905, -1.0605490967249145, 1.047902411355007, -1.267245016382241, 1.1224642642029532, 1.0481382352960023, 1.4350247636434967, -1.0165754231350488, -1.016724858910932, 0.552043783960571, 0.728636549813987, 2.678273724954312, 0.8500105436652005, 1.048004881875952, 0.4662865457067613, -1.1977546784983084, -1.8164062254185573, 1.6158721390075694, -2.1197236038096268, 2.6782593172651863, -1.9619605944509595, 2.6782434486936166, 0.5389567767590604, 2.2002172463436316, 1.4350242006277778, 0.5299671841725304, 1.4042452028179433, 1.1028113001816342, 1.0480811918793336, -2.267396066940841, -2.0417905521794024, 0.859448663944761], \"z\": [-0.5605035254916898, -0.5610713687103163, -0.6875288590680847, 0.16712470540451507, 0.34017179098558575, -0.027344016927841226, -0.5005111387741724, 0.369451870003406, 0.34013368086094453, 0.35713496793050803, 0.1919447331080097, 0.386488531502288, -0.36607019967569027, -0.06390506281403435, -0.027307421491822675, -0.5778729464264782, 0.0326905104250383, -0.027317613780298896, -0.5605145752861858, -0.5607912577261795, 0.3941045524274264, -0.09228897137703267, 0.1670305693363335, -0.027401952146782527, -0.02732151110997936, -0.5605592506876875, 0.019928433016868505, 0.07390812323964105, -0.027324550665113443, -0.560503629365805, -0.027308078825566587, -0.5605041652365791, -0.027305609279755564, 0.032693634986206074, -0.0028981778133595937, -0.459259731731889, 0.3851925550097589, 0.15508119484465785, -0.03526388902441325, -0.027314278159412647, -0.02745110144027607, -0.027315499639321252, -0.057241975756541635, -0.2498600419053156, -0.02730367446078307, 0.23780300287386968, -0.027942027104815182, -0.027342840073551315, -0.02733234609565642, -0.5605642559249301, -0.19909501522115805, -0.0836578079926767, -0.5005150419050332, 0.16712327351083198, -0.027414753414600087, -0.02731339158236272, -0.027301984014430517, -0.31672256276393446, -0.027325639470171526, 0.3411774963656418, -0.26797745053230115, -0.0273055761184463, -0.3672060916822, -0.258345213176604, -0.6211325427786575, -0.030911238817595835, 0.16712615024930086, -0.027509851788995943, -0.6211094803558915, -0.2952500098440413, -0.5606754383446831, -0.5605536010655897, -0.5737781826079748, -0.027305309473113087, -0.027354530288098543, -0.027321509842647067, -0.19835791019560023, -0.5005033266766472, 0.16673100339262265, 0.16412034418885157, 0.16710870663446117, -0.24596411737104526, -0.5005056667327654, 0.16711888356925034, 0.16712180649466316, 0.16713624390615528, 0.03269839732424177, -0.5612719346538513, -0.5605431968274036, -0.027315631139703554, -0.5249779598411191, 0.24794114198420655, -0.027400335324373557, -0.5005074042591523, 0.1641283296284875, 0.16711101285401347, -0.6211176027407331, -0.5607397771577449, 0.22355180980725725, 0.33330006943341706, 0.7120508271377365, -0.1250997561587701, -0.027349925731575693, -0.36609511610226475, -0.45928158132756286, -0.02777351145624923, -0.2583474579387067, -0.02739168510762655, -0.621105563937723, -0.027301782609756266, -0.2584988508423191, -0.027397284797513036, -0.5605041901324319, -0.6211075232327449, -0.027829370548288143, 0.35903353330026033, -0.19833955155920022, 0.3951780198026031, 0.1686862210444237, -0.027306417643394566, -0.560512165085536, -0.031081295528343406, 0.4137399578075649, -0.027301640824903554, 0.1671271798609656, -0.0428712690104093, -0.5005040114089567, 0.2636391138941451, 0.03267876858203862, 0.30125222545679814, 0.16712060109434146, -0.613054911889256, 0.03268820654873875, -0.2786522121185859, -0.027351582447120278, -0.027377804895870047, -0.2583973540974396, 0.3402129388048086, -0.6211215133402703, 0.6383258060000309, -0.3662546299526994, -0.5778127242173545, 0.032689050996204776, 0.1671233151123154, -0.31759326979450403, -0.027431887701807746, 0.23394358475438568, -0.36607127776160014, -0.5099759632826739, -0.027347094676322868, -0.3660699923242639, 0.1536320898255858, -0.5767827631764326, -0.5605147083023876, -0.25839088775554087, 0.032664301125528726, 0.41042429099024774, -0.02733003525539742, 0.5779149024571425, -0.500573026303825, -0.2918310861979272, -0.36607464438058046, 0.020648290286159287, -0.057251845040607055, -0.02730761563947574, 0.03268853021326912, -0.5005769479736063, -0.3661041278777276, -0.36616228844014864, -0.5722761408989179, -0.5005378934081203, -0.027301638940067267, -0.0717400827584539, -0.5612101871263376, -0.5605130779948286, -0.5605657312885669, -0.31897035193477696, 0.032694089098999776, -0.19874364104039827, 0.3681055780105868, -0.5005188355400342, -0.5605383031367072, 0.33811466009475816, -0.36606971643694114, 0.1671319021514422, -0.5005041314814567, -0.5605082486473534, 0.39455159836943043, -0.5605044038849176, -0.027388013026661003, -0.2584119458157031, 0.16713045308272387, -0.40264842304248294, -0.027311367628140418, -0.6938912097815049, -0.05728545149339718, -0.5605187053103954, -0.5008770357766527, 0.41291634972971886, -0.05731351526987471, -0.31893579529187527, -0.6401515516827712, -0.057298413412597476, -0.6834015622759368, 0.3402042511180232, 0.3571357691972448, -0.15805642357590233, -0.5005167091210726, -0.02908253143427808, 0.03224120142138587, -0.662993167708594, -0.5005057229680746, -0.057270506787505907, -0.5605177864327837, -0.5605117427131358, 0.032632570384341794, -0.057251845040607055, -0.5005162286841947, -0.36607490003266885, -0.5605182772337693, -0.4065050146001916, -0.5605132817190953, -0.5606185846432148, -0.5005045410674795, 0.33811589769364936, -0.5605316895223326, -0.279149182246688, -0.5605072982045667, -0.5605055880794068, -0.21095342650759583, -0.3645401963124618, -0.027302119668443713, 0.3381114265904467, 0.3012670405624343, -0.5605989968723163, -0.3660705906724523, -0.5005074715833939, -0.5605122633500595, 0.015531903784771418, -0.5605073769869051, 0.3694233827083775, -0.2583457798270925, -0.2693862709926927, -0.027303234765245706, -0.31894327537256884, 0.03251594601263703, 0.35713585381781265, -0.561125583695534, -0.027363390388761528, 0.3012576306119348, -0.258357298866619, 0.13234925879250256, -0.500526210206746, -0.6778276557495411, -0.5005720378315759, -0.02800723478204366, -0.0573083936946092, -0.5005299951306101, -0.039033601544546916, -0.057488870805922083, -0.5006430378713175, -0.5605095465377954, -0.5605088856798613, -0.560672990718659, -0.07663595792550369, -0.5005178710628396, -0.027316448315705923, -0.2588072690220657, 0.166116578469531, -0.05724963875644804, -0.5605309672065399, -0.611444835076403, -0.06393606118898118, -0.027319632253753084, -0.07177914486670879, 0.36941062808914005, -0.6683921582577264, 0.28126251671884295, 0.6531954299248688, 0.41356636906236616, 0.3369620551438814, -0.5722267027137891, 0.03266610852417174, -0.5722719314957151, -0.6232611120825531, -0.027312728919088307, -0.6211173250299672, -0.027316288455475332, 0.03267699719955125, 0.032694557709845806, -0.5730611877165899, 0.3381043429958891, -0.6211157400183764, 0.3545442862831038, -0.13498353337927027, 0.09311483207072824, -0.14960375982253832, 0.0324573219464358, -0.6232794636932895, 0.16712467442504406, -0.5005106265797391, -0.2583465451301945, 9.809703480787528, -0.029078483043468637, -0.05725164026038374, -0.0920574479411009, -0.027309034428729156, -0.027323374932459392, -0.027332962430588657, -0.02733344685447559, -0.5605205394824944, -0.5605061381101363, 0.33810079996186077, 0.19376873849678297, -0.05310317232212942, -0.5005111839796497, 0.35122795707656734, -0.2953983112017235, 0.03117040865355217, -0.5605067047035356, 0.23794790065628849, 0.01692970830283145, 0.3571305215589164, -0.5866778851404816, -0.3661244990705638, -0.5726800419482039, -0.5470225396828274, 0.4103901070193332, -0.5605080529016836, -0.5131622570188225, -0.027363456768994158, -0.10889672575116956, -0.5605134374938814, -0.06949603967344757, 0.03256036928463775, 0.23794385394710116, 0.34016738928279827, 0.23794633375910046, -0.5005449934321694, -0.15820134513492176, -0.5901599725208093, -0.6212212651819705, 0.394877669791788, -0.5605893181494648, 0.31500341039943336, 0.3381157414595977, 0.3382922941589909, -0.27006543347526546, -0.21095718794947452, 0.03256949391816279, 0.369090701258727, -0.5711894901744431, -0.5605327237606738, -0.029942516868067762, -0.5005322436765307, 0.18676056519741835, 0.03269367809698928, 0.23794724905752732, -0.21097879575910325, 0.23773398278907226, -0.027332682365994166, -0.5609234669828236, -0.5605053365008619, -0.19834049848817098, 0.03269121247421085, 0.16712383276635476, 0.024853088300929898, -0.07173042829727508, 0.10918565317755675, -0.2726657620521781, 0.14481830365357592, 0.43865476056161784, -0.5606491318192478, 0.3380023831631001, -0.03352183777314671, 0.41036642730796125, 0.2475008445038055, -0.3191739149618269, 18.41630749728276, 8.806269130202596, -0.02731366086261975, -0.036978243712899234, 0.032518644928868926, -0.5083482611412431, 11.819865122759893, -0.5005085385796627, -0.5261906794834743, -0.2583677124886866, -0.058771536692855196, 0.339008376288087, 0.33791440801236805, -0.02730665256019543, 0.40811158110584567, -0.572237826792761, -0.5605044161032968, -0.5605049069618107, 0.3570977072748623, -0.2585408052659596, 0.41286024654323555, -0.13450722056038705, -0.057264203036865476, -0.5605130767138959, 0.06308125300112004, 0.03266761981512928, -0.5132116270317207, -0.05725795807324389, 0.3381095278911301, -0.10223863864886887, -0.5620061883171045, -0.03903394607481793, 0.3012628265766484, -0.3043375643672555, 0.3397568868939195, -0.25835707567809, 0.41291845792035614, 0.3380183130660029, 0.4103538591214551, 0.28828098822498094, -0.5668485194111947, -0.2583460497954792, 0.32316257282525224, -0.6816732060749264, 0.3376970380115915, -0.560527522128157, -0.27566271425199407, -0.6075927657210929, -0.2110573604991813, -0.06394066180992843, -0.12467566500122197, 0.12879744841087706, 0.4181410477619593, 0.03269312906080663, -0.40442809555587633, -0.21095288633376913, -0.5131180546736803, -0.2611923717943899, -0.28523866179793267, -0.21099295963423143, -0.027305638035159126, -0.560675211255497, 0.3691564360222558, 0.36207155318944106, 0.00697971719409294, 0.334088850202183, -0.19835298252736963, -0.5005257216789982, -0.2584279479422906, -0.05727916753912871, 0.16583005490969763, -0.43829052853764305, -0.1983539124555208, 0.0326924417582039, -0.5640297924031729, 0.7423906632842454, 0.1287835234529581, 13.845800728340263, 0.35393790933413233, -0.22402349351654285, 0.412903008318182, 0.16712467581746365, -0.3594912227344897, -0.20612793588885814, 0.3359070061353391, -0.5131396314045028, 0.4987944576744028, 0.49880151734271333, 0.12608410009991133, 0.5928609525808824, -0.027337541738708802, -0.5605137710421337, 0.3570812291682645, -0.5131259948463152, 0.35712524926213907, -0.21094926406730682, -0.5871210700442561, 0.1686663264360432, -0.19833860685299717, -0.5605270453947141, -0.5263550377670434, -0.6828933152278351, -0.5005813888698106, 0.1671018662436199, -0.08790123260094015, 0.16706963061489208, -0.5005191693555094, -0.1586083309491383, -0.5733635740353267, -0.04392874695436624, -0.5006131682319648, 0.23554550964141155, -0.5605389749243429, 0.497617714427088, -0.5605220251609955, -0.0639030585237039, -0.5605078866596435, -0.5007855347767058, -0.027823788847478416, -0.5627246280233777, -0.3742215034699099, -0.500896366573043, 0.16711886023407022, -0.5605332332114157, -0.049159401540708296, -0.5607543033413646, 0.07389381493613792, -0.5006297093250885, -0.5605775256749149, -0.057242657359750884, -0.027304389563004763, -0.02736361141537843, -0.30692537098411504, -0.3661174776479132, -0.15806768094784385, -0.26455733670152864, -0.5606684101235787, -0.2952586035754332, -1.6479183903608488, 0.39520552128738906, -0.6211027013158498, 0.3791101653421418, -0.1584483950640782, 0.34020531956208544, -0.15849450917622673, -0.06451957383827085, 12.29420934155875, -0.05724506869252881, -1.386255876419661, 0.24232024314277656, -0.09846353894775424, -0.5605525962435799, 0.3374390587831994, 0.357135007107877, -0.2583353756222385]}],\n",
              "                        {\"coloraxis\": {\"colorbar\": {\"title\": {\"text\": \"class\"}}, \"colorscale\": [[0.0, \"#0d0887\"], [0.1111111111111111, \"#46039f\"], [0.2222222222222222, \"#7201a8\"], [0.3333333333333333, \"#9c179e\"], [0.4444444444444444, \"#bd3786\"], [0.5555555555555556, \"#d8576b\"], [0.6666666666666666, \"#ed7953\"], [0.7777777777777778, \"#fb9f3a\"], [0.8888888888888888, \"#fdca26\"], [1.0, \"#f0f921\"]]}, \"legend\": {\"tracegroupgap\": 0}, \"margin\": {\"t\": 60}, \"scene\": {\"domain\": {\"x\": [0.0, 1.0], \"y\": [0.0, 1.0]}, \"xaxis\": {\"title\": {\"text\": \"PC 1\"}}, \"yaxis\": {\"title\": {\"text\": \"PC 2\"}}, \"zaxis\": {\"title\": {\"text\": \"PC 3\"}}}, \"template\": {\"data\": {\"bar\": [{\"error_x\": {\"color\": \"#2a3f5f\"}, \"error_y\": {\"color\": \"#2a3f5f\"}, \"marker\": {\"line\": {\"color\": \"#E5ECF6\", \"width\": 0.5}}, \"type\": \"bar\"}], \"barpolar\": [{\"marker\": {\"line\": {\"color\": \"#E5ECF6\", \"width\": 0.5}}, \"type\": \"barpolar\"}], \"carpet\": [{\"aaxis\": {\"endlinecolor\": \"#2a3f5f\", \"gridcolor\": \"white\", \"linecolor\": \"white\", \"minorgridcolor\": \"white\", \"startlinecolor\": \"#2a3f5f\"}, \"baxis\": {\"endlinecolor\": \"#2a3f5f\", \"gridcolor\": \"white\", \"linecolor\": \"white\", \"minorgridcolor\": \"white\", \"startlinecolor\": \"#2a3f5f\"}, \"type\": \"carpet\"}], \"choropleth\": [{\"colorbar\": {\"outlinewidth\": 0, \"ticks\": \"\"}, \"type\": \"choropleth\"}], \"contour\": [{\"colorbar\": {\"outlinewidth\": 0, \"ticks\": \"\"}, \"colorscale\": [[0.0, \"#0d0887\"], [0.1111111111111111, \"#46039f\"], [0.2222222222222222, \"#7201a8\"], [0.3333333333333333, \"#9c179e\"], [0.4444444444444444, \"#bd3786\"], [0.5555555555555556, \"#d8576b\"], [0.6666666666666666, \"#ed7953\"], [0.7777777777777778, \"#fb9f3a\"], [0.8888888888888888, \"#fdca26\"], [1.0, \"#f0f921\"]], \"type\": \"contour\"}], \"contourcarpet\": [{\"colorbar\": {\"outlinewidth\": 0, \"ticks\": \"\"}, \"type\": \"contourcarpet\"}], \"heatmap\": [{\"colorbar\": {\"outlinewidth\": 0, \"ticks\": \"\"}, \"colorscale\": [[0.0, \"#0d0887\"], [0.1111111111111111, \"#46039f\"], [0.2222222222222222, \"#7201a8\"], [0.3333333333333333, \"#9c179e\"], [0.4444444444444444, \"#bd3786\"], [0.5555555555555556, \"#d8576b\"], [0.6666666666666666, \"#ed7953\"], [0.7777777777777778, \"#fb9f3a\"], [0.8888888888888888, \"#fdca26\"], [1.0, \"#f0f921\"]], \"type\": \"heatmap\"}], \"heatmapgl\": [{\"colorbar\": {\"outlinewidth\": 0, \"ticks\": \"\"}, \"colorscale\": [[0.0, \"#0d0887\"], [0.1111111111111111, \"#46039f\"], [0.2222222222222222, \"#7201a8\"], [0.3333333333333333, \"#9c179e\"], [0.4444444444444444, \"#bd3786\"], [0.5555555555555556, \"#d8576b\"], [0.6666666666666666, \"#ed7953\"], [0.7777777777777778, \"#fb9f3a\"], [0.8888888888888888, \"#fdca26\"], [1.0, \"#f0f921\"]], \"type\": \"heatmapgl\"}], \"histogram\": [{\"marker\": {\"colorbar\": {\"outlinewidth\": 0, \"ticks\": \"\"}}, \"type\": \"histogram\"}], \"histogram2d\": [{\"colorbar\": {\"outlinewidth\": 0, \"ticks\": \"\"}, \"colorscale\": [[0.0, \"#0d0887\"], [0.1111111111111111, \"#46039f\"], [0.2222222222222222, \"#7201a8\"], [0.3333333333333333, \"#9c179e\"], [0.4444444444444444, \"#bd3786\"], [0.5555555555555556, \"#d8576b\"], [0.6666666666666666, \"#ed7953\"], [0.7777777777777778, \"#fb9f3a\"], [0.8888888888888888, \"#fdca26\"], [1.0, \"#f0f921\"]], \"type\": \"histogram2d\"}], \"histogram2dcontour\": [{\"colorbar\": {\"outlinewidth\": 0, \"ticks\": \"\"}, \"colorscale\": [[0.0, \"#0d0887\"], [0.1111111111111111, \"#46039f\"], [0.2222222222222222, \"#7201a8\"], [0.3333333333333333, \"#9c179e\"], [0.4444444444444444, \"#bd3786\"], [0.5555555555555556, \"#d8576b\"], [0.6666666666666666, \"#ed7953\"], [0.7777777777777778, \"#fb9f3a\"], [0.8888888888888888, \"#fdca26\"], [1.0, \"#f0f921\"]], \"type\": \"histogram2dcontour\"}], \"mesh3d\": [{\"colorbar\": {\"outlinewidth\": 0, \"ticks\": \"\"}, \"type\": \"mesh3d\"}], \"parcoords\": [{\"line\": {\"colorbar\": {\"outlinewidth\": 0, \"ticks\": \"\"}}, \"type\": \"parcoords\"}], \"pie\": [{\"automargin\": true, \"type\": \"pie\"}], \"scatter\": [{\"marker\": {\"colorbar\": {\"outlinewidth\": 0, \"ticks\": \"\"}}, \"type\": \"scatter\"}], \"scatter3d\": [{\"line\": {\"colorbar\": {\"outlinewidth\": 0, \"ticks\": \"\"}}, \"marker\": {\"colorbar\": {\"outlinewidth\": 0, \"ticks\": \"\"}}, \"type\": \"scatter3d\"}], \"scattercarpet\": [{\"marker\": {\"colorbar\": {\"outlinewidth\": 0, \"ticks\": \"\"}}, \"type\": \"scattercarpet\"}], \"scattergeo\": [{\"marker\": {\"colorbar\": {\"outlinewidth\": 0, \"ticks\": \"\"}}, \"type\": \"scattergeo\"}], \"scattergl\": [{\"marker\": {\"colorbar\": {\"outlinewidth\": 0, \"ticks\": \"\"}}, \"type\": \"scattergl\"}], \"scattermapbox\": [{\"marker\": {\"colorbar\": {\"outlinewidth\": 0, \"ticks\": \"\"}}, \"type\": \"scattermapbox\"}], \"scatterpolar\": [{\"marker\": {\"colorbar\": {\"outlinewidth\": 0, \"ticks\": \"\"}}, \"type\": \"scatterpolar\"}], \"scatterpolargl\": [{\"marker\": {\"colorbar\": {\"outlinewidth\": 0, \"ticks\": \"\"}}, \"type\": \"scatterpolargl\"}], \"scatterternary\": [{\"marker\": {\"colorbar\": {\"outlinewidth\": 0, \"ticks\": \"\"}}, \"type\": \"scatterternary\"}], \"surface\": [{\"colorbar\": {\"outlinewidth\": 0, \"ticks\": \"\"}, \"colorscale\": [[0.0, \"#0d0887\"], [0.1111111111111111, \"#46039f\"], [0.2222222222222222, \"#7201a8\"], [0.3333333333333333, \"#9c179e\"], [0.4444444444444444, \"#bd3786\"], [0.5555555555555556, \"#d8576b\"], [0.6666666666666666, \"#ed7953\"], [0.7777777777777778, \"#fb9f3a\"], [0.8888888888888888, \"#fdca26\"], [1.0, \"#f0f921\"]], \"type\": \"surface\"}], \"table\": [{\"cells\": {\"fill\": {\"color\": \"#EBF0F8\"}, \"line\": {\"color\": \"white\"}}, \"header\": {\"fill\": {\"color\": \"#C8D4E3\"}, \"line\": {\"color\": \"white\"}}, \"type\": \"table\"}]}, \"layout\": {\"annotationdefaults\": {\"arrowcolor\": \"#2a3f5f\", \"arrowhead\": 0, \"arrowwidth\": 1}, \"coloraxis\": {\"colorbar\": {\"outlinewidth\": 0, \"ticks\": \"\"}}, \"colorscale\": {\"diverging\": [[0, \"#8e0152\"], [0.1, \"#c51b7d\"], [0.2, \"#de77ae\"], [0.3, \"#f1b6da\"], [0.4, \"#fde0ef\"], [0.5, \"#f7f7f7\"], [0.6, \"#e6f5d0\"], [0.7, \"#b8e186\"], [0.8, \"#7fbc41\"], [0.9, \"#4d9221\"], [1, \"#276419\"]], \"sequential\": [[0.0, \"#0d0887\"], [0.1111111111111111, \"#46039f\"], [0.2222222222222222, \"#7201a8\"], [0.3333333333333333, \"#9c179e\"], [0.4444444444444444, \"#bd3786\"], [0.5555555555555556, \"#d8576b\"], [0.6666666666666666, \"#ed7953\"], [0.7777777777777778, \"#fb9f3a\"], [0.8888888888888888, \"#fdca26\"], [1.0, \"#f0f921\"]], \"sequentialminus\": [[0.0, \"#0d0887\"], [0.1111111111111111, \"#46039f\"], [0.2222222222222222, \"#7201a8\"], [0.3333333333333333, \"#9c179e\"], [0.4444444444444444, \"#bd3786\"], [0.5555555555555556, \"#d8576b\"], [0.6666666666666666, \"#ed7953\"], [0.7777777777777778, \"#fb9f3a\"], [0.8888888888888888, \"#fdca26\"], [1.0, \"#f0f921\"]]}, \"colorway\": [\"#636efa\", \"#EF553B\", \"#00cc96\", \"#ab63fa\", \"#FFA15A\", \"#19d3f3\", \"#FF6692\", \"#B6E880\", \"#FF97FF\", \"#FECB52\"], \"font\": {\"color\": \"#2a3f5f\"}, \"geo\": {\"bgcolor\": \"white\", \"lakecolor\": \"white\", \"landcolor\": \"#E5ECF6\", \"showlakes\": true, \"showland\": true, \"subunitcolor\": \"white\"}, \"hoverlabel\": {\"align\": \"left\"}, \"hovermode\": \"closest\", \"mapbox\": {\"style\": \"light\"}, \"paper_bgcolor\": \"white\", \"plot_bgcolor\": \"#E5ECF6\", \"polar\": {\"angularaxis\": {\"gridcolor\": \"white\", \"linecolor\": \"white\", \"ticks\": \"\"}, \"bgcolor\": \"#E5ECF6\", \"radialaxis\": {\"gridcolor\": \"white\", \"linecolor\": \"white\", \"ticks\": \"\"}}, \"scene\": {\"xaxis\": {\"backgroundcolor\": \"#E5ECF6\", \"gridcolor\": \"white\", \"gridwidth\": 2, \"linecolor\": \"white\", \"showbackground\": true, \"ticks\": \"\", \"zerolinecolor\": \"white\"}, \"yaxis\": {\"backgroundcolor\": \"#E5ECF6\", \"gridcolor\": \"white\", \"gridwidth\": 2, \"linecolor\": \"white\", \"showbackground\": true, \"ticks\": \"\", \"zerolinecolor\": \"white\"}, \"zaxis\": {\"backgroundcolor\": \"#E5ECF6\", \"gridcolor\": \"white\", \"gridwidth\": 2, \"linecolor\": \"white\", \"showbackground\": true, \"ticks\": \"\", \"zerolinecolor\": \"white\"}}, \"shapedefaults\": {\"line\": {\"color\": \"#2a3f5f\"}}, \"ternary\": {\"aaxis\": {\"gridcolor\": \"white\", \"linecolor\": \"white\", \"ticks\": \"\"}, \"baxis\": {\"gridcolor\": \"white\", \"linecolor\": \"white\", \"ticks\": \"\"}, \"bgcolor\": \"#E5ECF6\", \"caxis\": {\"gridcolor\": \"white\", \"linecolor\": \"white\", \"ticks\": \"\"}}, \"title\": {\"x\": 0.05}, \"xaxis\": {\"automargin\": true, \"gridcolor\": \"white\", \"linecolor\": \"white\", \"ticks\": \"\", \"title\": {\"standoff\": 15}, \"zerolinecolor\": \"white\", \"zerolinewidth\": 2}, \"yaxis\": {\"automargin\": true, \"gridcolor\": \"white\", \"linecolor\": \"white\", \"ticks\": \"\", \"title\": {\"standoff\": 15}, \"zerolinecolor\": \"white\", \"zerolinewidth\": 2}}}},\n",
              "                        {\"responsive\": true}\n",
              "                    ).then(function(){\n",
              "                            \n",
              "var gd = document.getElementById('39b7c46d-9ff6-45f1-a813-401a97175ab3');\n",
              "var x = new MutationObserver(function (mutations, observer) {{\n",
              "        var display = window.getComputedStyle(gd).display;\n",
              "        if (!display || display === 'none') {{\n",
              "            console.log([gd, 'removed!']);\n",
              "            Plotly.purge(gd);\n",
              "            observer.disconnect();\n",
              "        }}\n",
              "}});\n",
              "\n",
              "// Listen for the removal of the full notebook cells\n",
              "var notebookContainer = gd.closest('#notebook-container');\n",
              "if (notebookContainer) {{\n",
              "    x.observe(notebookContainer, {childList: true});\n",
              "}}\n",
              "\n",
              "// Listen for the clearing of the current output cell\n",
              "var outputEl = gd.closest('.output');\n",
              "if (outputEl) {{\n",
              "    x.observe(outputEl, {childList: true});\n",
              "}}\n",
              "\n",
              "                        })\n",
              "                };\n",
              "                \n",
              "            </script>\n",
              "        </div>\n",
              "</body>\n",
              "</html>"
            ]
          },
          "metadata": {
            "tags": []
          }
        }
      ]
    },
    {
      "cell_type": "markdown",
      "metadata": {
        "id": "85klHtpv-47f"
      },
      "source": [
        "#### Table of Tradable Cryptocurrencies"
      ]
    },
    {
      "cell_type": "code",
      "metadata": {
        "colab": {
          "base_uri": "https://localhost:8080/",
          "height": 406
        },
        "id": "o98QVw0o-47p",
        "outputId": "8b28ab79-7297-4556-e281-51d15e1ea840"
      },
      "source": [
        "# Table with tradable cryptos\n",
        "coins_name_df"
      ],
      "execution_count": 36,
      "outputs": [
        {
          "output_type": "execute_result",
          "data": {
            "text/html": [
              "<div>\n",
              "<style scoped>\n",
              "    .dataframe tbody tr th:only-of-type {\n",
              "        vertical-align: middle;\n",
              "    }\n",
              "\n",
              "    .dataframe tbody tr th {\n",
              "        vertical-align: top;\n",
              "    }\n",
              "\n",
              "    .dataframe thead th {\n",
              "        text-align: right;\n",
              "    }\n",
              "</style>\n",
              "<table border=\"1\" class=\"dataframe\">\n",
              "  <thead>\n",
              "    <tr style=\"text-align: right;\">\n",
              "      <th></th>\n",
              "      <th>CoinName</th>\n",
              "    </tr>\n",
              "  </thead>\n",
              "  <tbody>\n",
              "    <tr>\n",
              "      <th>42</th>\n",
              "      <td>42 Coin</td>\n",
              "    </tr>\n",
              "    <tr>\n",
              "      <th>404</th>\n",
              "      <td>404Coin</td>\n",
              "    </tr>\n",
              "    <tr>\n",
              "      <th>1337</th>\n",
              "      <td>EliteCoin</td>\n",
              "    </tr>\n",
              "    <tr>\n",
              "      <th>BTC</th>\n",
              "      <td>Bitcoin</td>\n",
              "    </tr>\n",
              "    <tr>\n",
              "      <th>ETH</th>\n",
              "      <td>Ethereum</td>\n",
              "    </tr>\n",
              "    <tr>\n",
              "      <th>...</th>\n",
              "      <td>...</td>\n",
              "    </tr>\n",
              "    <tr>\n",
              "      <th>ZEPH</th>\n",
              "      <td>ZEPHYR</td>\n",
              "    </tr>\n",
              "    <tr>\n",
              "      <th>GAP</th>\n",
              "      <td>Gapcoin</td>\n",
              "    </tr>\n",
              "    <tr>\n",
              "      <th>BDX</th>\n",
              "      <td>Beldex</td>\n",
              "    </tr>\n",
              "    <tr>\n",
              "      <th>ZEN</th>\n",
              "      <td>Horizen</td>\n",
              "    </tr>\n",
              "    <tr>\n",
              "      <th>XBC</th>\n",
              "      <td>BitcoinPlus</td>\n",
              "    </tr>\n",
              "  </tbody>\n",
              "</table>\n",
              "<p>533 rows × 1 columns</p>\n",
              "</div>"
            ],
            "text/plain": [
              "         CoinName\n",
              "42        42 Coin\n",
              "404       404Coin\n",
              "1337    EliteCoin\n",
              "BTC       Bitcoin\n",
              "ETH      Ethereum\n",
              "...           ...\n",
              "ZEPH       ZEPHYR\n",
              "GAP       Gapcoin\n",
              "BDX        Beldex\n",
              "ZEN       Horizen\n",
              "XBC   BitcoinPlus\n",
              "\n",
              "[533 rows x 1 columns]"
            ]
          },
          "metadata": {
            "tags": []
          },
          "execution_count": 36
        }
      ]
    },
    {
      "cell_type": "code",
      "metadata": {
        "colab": {
          "base_uri": "https://localhost:8080/"
        },
        "id": "tL_JUGaG-47p",
        "outputId": "3d98d74d-bf5e-4f85-ecef-e56dc6f1882b"
      },
      "source": [
        "# Print the total number of tradable cryptocurrencies\n",
        "print(f' There are {clustered_df[\"CoinName\"].count()} tradable cryptocurrencies')"
      ],
      "execution_count": 34,
      "outputs": [
        {
          "output_type": "stream",
          "text": [
            " There are 533 tradable cryptocurrencies\n"
          ],
          "name": "stdout"
        }
      ]
    },
    {
      "cell_type": "markdown",
      "metadata": {
        "id": "K31y-Lgk-47r"
      },
      "source": [
        "#### Scatter Plot with Tradable Cryptocurrencies"
      ]
    },
    {
      "cell_type": "code",
      "metadata": {
        "id": "_7BYFOpd-47t"
      },
      "source": [
        "# Scale data to create the scatter plot\n",
        "\n",
        "clustered_df['TotalCoinSupply'] = clustered_df['TotalCoinSupply'].astype(\"float\")\n",
        "scaled_two = clustered_df[['TotalCoinSupply', 'TotalCoinsMined']]\n",
        "scaled_two = StandardScaler().fit_transform(scaled_two)\n",
        "scaled_two = pd.DataFrame(scaled_two, columns=['TotalCoinSupply', 'TotalCoinsMined'])"
      ],
      "execution_count": 38,
      "outputs": []
    },
    {
      "cell_type": "code",
      "metadata": {
        "colab": {
          "base_uri": "https://localhost:8080/",
          "height": 296
        },
        "id": "W98YNJmJ-47t",
        "outputId": "41886038-c3b5-44ca-dfdc-6fa620b10f02"
      },
      "source": [
        "# Plot the scatter with x=\"TotalCoinsMined\" and y=\"TotalCoinSupply\"\n",
        "scaled_two.plot.scatter(x=\"TotalCoinsMined\", y=\"TotalCoinSupply\")"
      ],
      "execution_count": 39,
      "outputs": [
        {
          "output_type": "execute_result",
          "data": {
            "text/plain": [
              "<matplotlib.axes._subplots.AxesSubplot at 0x7f3ef0ac6f98>"
            ]
          },
          "metadata": {
            "tags": []
          },
          "execution_count": 39
        },
        {
          "output_type": "display_data",
          "data": {
            "image/png": "[encoded data removed]",
            "text/plain": [
              "<Figure size 432x288 with 1 Axes>"
            ]
          },
          "metadata": {
            "tags": [],
            "needs_background": "light"
          }
        }
      ]
    }
  ]
}